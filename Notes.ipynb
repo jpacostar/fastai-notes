{
 "cells": [
  {
   "cell_type": "markdown",
   "metadata": {},
   "source": [
    "# Practical Deep Learning For Coders\n",
    "# Notes for non command-line fluent speakers\n",
    "\n",
    "This are my notes while following the [fast.ai](http://course.fast.ai/index.html) _Practical Deep Learning For Coders_ course.  While I have experience with statistics and data analysis in R and Python, starting the course, I had very little practice with Linux systems and had trouble getting basic things done on the terminal (like copying files, making directories, etc.).  I hope this post can help others who are eager to learn deep learning hands-on, but, like me, get stuck before the learning starts!"
   ]
  },
  {
   "cell_type": "markdown",
   "metadata": {},
   "source": [
    "# First lessons: dogs, cats and more dogs\n",
    "\n",
    "I started the course towards the end of may 2018.  Right at the end of lesson 1, and eager to try by myself to the dogs-vs-cats classifier, I registered in Paperspace and tried to create a new machine with the fast.ai public template.  However, a message appeared stating that _This instance type has not been enabled in your account yet_.  I filled the request and, three weeks later, haven't heard back.  I also tried the free hour in Crestle, but decided to follow the recomendations towards the end of lesson 2 and try Amazon Web Services (AWS). \n",
    "\n",
    "I followed all the steps in the [lesson 2 video](https://youtu.be/JNxcznsrRb8?t=1h57m19s), but when I ran the notebook on an instance of the fast.ai AMI, `torch.cuda.is_available()` returned `False`.  Then, I found this [post](See http://forums.fast.ai/t/torch-cuda-is-available-returns-false/16721/), in which the author finally decides to use the Amazon Deep Learning AMI (see [here](https://aws.amazon.com/blogs/machine-learning/get-started-with-deep-learning-using-the-aws-deep-learning-ami/) for the basic part of the setup)."
   ]
  },
  {
   "cell_type": "markdown",
   "metadata": {},
   "source": [
    "## 1. AWS\n",
    "\n",
    "For setting up an AWS server, see the video of [lesson 2](http://course.fast.ai/lessons/lesson2.html) at 2:00:00.\n",
    "\n",
    "1. From the GDR Computer, the private key is at C:\\cygwin64\\home\\ANALISTA\\.ssh.\n",
    "1. Go to EC2 > launch instance > Community AMIs > search for `fastai`.\n",
    "1. Select **fastai-part1v2-p2** (prices [here](https://aws.amazon.com/ec2/pricing/)).\n",
    "1. Filter by **GPU Compute** and select the **p2.xlarge**. Click on **Review and Launch**.\n",
    "1. Select key pair from first step. Click **Launch**.\n",
    "\n",
    "To login:\n",
    "\n",
    "1. Copy IP address from the **Instances** dashboard.\n",
    "1. From the Terminal: `ssh ubuntu@<IP ADDRESS> -L8888:localhost:8888`.  From Mac: `ssh -i <key file> ubuntu@<IP ADRESS> -L8888:localhost:8888`\n",
    "\n",
    "To start learning:\n",
    "\n",
    "1. `cd fastai`\n",
    "1. `git pull`\n",
    "1. `conda env update` (once a month)\n",
    "1. `jupyter notebook`\n",
    "\n",
    "When finished:\n",
    "\n",
    "1. At **Instances**: right-click > Instance State > **Stop**.\n",
    "\n",
    "To send files to aws instance:\n",
    "\n",
    "* `scp <file to send> ubuntu@<IP ADDRESS>:<dir to send file to>`.\n",
    "\n",
    "To get files from aws instance:\n",
    "\n",
    "* `scp ...`\n",
    "* From notebook: `FileLink(<path>)`\n",
    "\n",
    "Also, see:\n",
    "\n",
    "* http://www.fast.ai/2017/11/16/what-you-need/\n",
    "* http://course.fast.ai/lessons/aws.html\n",
    "* http://forums.fast.ai/t/torch-cuda-is-available-returns-false/16721/8\n",
    "\n",
    "To download the models' pretrained weights:\n",
    "\n",
    "See http://forums.fast.ai/t/dog-breed-challenge-precompute-error/10988/7.\n",
    "\n",
    "* `wget http://files.fast.ai/models/weights.tgz`\n",
    "* tar -xvzf weights.tgz"
   ]
  },
  {
   "cell_type": "markdown",
   "metadata": {},
   "source": [
    "### To configure Amazon deep learning AMI\n",
    "\n",
    "* https://aws.amazon.com/blogs/machine-learning/get-started-with-deep-learning-using-the-aws-deep-learning-ami/\n",
    "* https://docs.aws.amazon.com/AWSEC2/latest/UserGuide/TroubleshootingInstancesConnecting.html#TroubleshootingInstancesConnectingMindTerm\n",
    "\n",
    "**Note:** If there is a local jupyter session open, make sure it is not running on port 8888."
   ]
  },
  {
   "cell_type": "code",
   "execution_count": null,
   "metadata": {
    "collapsed": true
   },
   "outputs": [],
   "source": [
    "chmod 600 <key_pair>.pem\n",
    "ssh -L localhost:8888:localhost:8888 -i <your .pem file name> ubuntu@<Your instance DNS>\n",
    "\n",
    "# from home (~)\n",
    "    conda update -n base conda\n",
    "    pip install --upgrade pip\n",
    "\n",
    "    git clone https://github.com/jpacostar/fastai-notes.git\n",
    "    git clone https://github.com/fastai/fastai.git\n",
    "\n",
    "# from ~/fastai:\n",
    "    conda env update\n",
    "    source activate fastai\n",
    "    pip install environment_kernels\n",
    "\n",
    "# from ~/fastai/fastai:\n",
    "    wget http://files.fast.ai/models/weights.tgz\n",
    "    tar -xvzf weights.tgz\n",
    "    rm weights.tgz\n",
    "\n",
    "# from ~/home (~)\n",
    "    mkdir data\n",
    "    ln -s ~/data ln fastai-notes/\n",
    "\n",
    "# from ~/fastai-notes\n",
    "    ln -sf ~/fastai/fastai"
   ]
  },
  {
   "cell_type": "markdown",
   "metadata": {},
   "source": [
    "## Kaggle\n",
    "\n",
    "See the official [kaggle API](https://github.com/Kaggle/kaggle-api) or the [kaggle-cli](https://github.com/floydwch/kaggle-cli).\n",
    "\n",
    "With the Kaggle API\n",
    "\n",
    "1. Download Kaggle credentials from account page into `~/.kaggle/kaggle.json`.\n",
    "1. `kaggle competitions download -c <competition name>`\n",
    "\n",
    "With the `kaggle-cli`:\n",
    "\n",
    "* `kg download -u <username/email> -p <password> -c <competition name>`"
   ]
  },
  {
   "cell_type": "markdown",
   "metadata": {
    "collapsed": true
   },
   "source": [
    "```\n",
    "# from ~/data\n",
    "    mkdir dog-breed-identification\n",
    "    cd dog-breed-identification\n",
    "    kg download -u <...> -p <...> -c dog-breed-identification \n",
    "    unzip ...\n",
    "\n",
    "    mkdir dogs-vs-cats\n",
    "    cd dogs-vs-cats\n",
    "    kg download -u <...> -p <...> -c dogs-vs-cats\n",
    "    unzip ...\n",
    "    \n",
    "    cd train\n",
    "    mkdir cats\n",
    "    mv cat.* cats/\n",
    "    mkdir dogs\n",
    "    mv dog.* dogs/\n",
    "    \n",
    "    mkdir valid\n",
    "    mkdir valid/dogs\n",
    "    mkdir valid/cats\n",
    "    mv train/dogs/dog.4* valid/dogs/\n",
    "    mv train/cats/cat.6* valid/cats/\n",
    "    \n",
    "    mkdir planet\n",
    "    cd planet\n",
    "    # See http://forums.fast.ai/t/how-to-download-data-for-lesson-2-from-kaggle-for-planet-competition/7684\n",
    "```"
   ]
  },
  {
   "cell_type": "markdown",
   "metadata": {},
   "source": [
    "## Git\n",
    "\n",
    "To clone the repository:\n",
    "\n",
    "* `git clone https://github.com/jpacostar/fastai-notes.git`\n",
    "\n",
    "To add files:\n",
    "\n",
    "1. `git pull`\n",
    "1. Add the files to the repository local directory.\n",
    "1. `git add <files>`\n",
    "1. `git commit <file> -m <commit notes>`\n",
    "1. `git push https://github.com/jpacostar/fastai-notes.git master`\n"
   ]
  },
  {
   "cell_type": "markdown",
   "metadata": {},
   "source": [
    "# ConvNets "
   ]
  },
  {
   "cell_type": "code",
   "execution_count": 1,
   "metadata": {},
   "outputs": [
    {
     "name": "stdout",
     "output_type": "stream",
     "text": [
      "Object `ConvnetBuilder` not found.\n"
     ]
    }
   ],
   "source": [
    "??ConvnetBuilder"
   ]
  },
  {
   "cell_type": "code",
   "execution_count": null,
   "metadata": {
    "collapsed": true
   },
   "outputs": [],
   "source": []
  }
 ],
 "metadata": {
  "kernelspec": {
   "display_name": "Python 3",
   "language": "python",
   "name": "python3"
  },
  "language_info": {
   "codemirror_mode": {
    "name": "ipython",
    "version": 3
   },
   "file_extension": ".py",
   "mimetype": "text/x-python",
   "name": "python",
   "nbconvert_exporter": "python",
   "pygments_lexer": "ipython3",
   "version": "3.6.4"
  }
 },
 "nbformat": 4,
 "nbformat_minor": 2
}
