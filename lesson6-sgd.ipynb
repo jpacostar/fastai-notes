{
 "cells": [
  {
   "cell_type": "markdown",
   "metadata": {
    "toc": "true"
   },
   "source": [
    "<h1>Table of Contents<span class=\"tocSkip\"></span></h1>\n",
    "<div class=\"toc\"><ul class=\"toc-item\"><li><span><a href=\"#Linear-Regression-problem\" data-toc-modified-id=\"Linear-Regression-problem-1\"><span class=\"toc-item-num\">1&nbsp;&nbsp;</span>Linear Regression problem</a></span></li><li><span><a href=\"#Gradient-Descent\" data-toc-modified-id=\"Gradient-Descent-2\"><span class=\"toc-item-num\">2&nbsp;&nbsp;</span>Gradient Descent</a></span></li><li><span><a href=\"#Gradient-Descent---Classification\" data-toc-modified-id=\"Gradient-Descent---Classification-3\"><span class=\"toc-item-num\">3&nbsp;&nbsp;</span>Gradient Descent - Classification</a></span></li><li><span><a href=\"#Gradient-descent-with-numpy\" data-toc-modified-id=\"Gradient-descent-with-numpy-4\"><span class=\"toc-item-num\">4&nbsp;&nbsp;</span>Gradient descent with numpy</a></span></li></ul></div>"
   ]
  },
  {
   "cell_type": "code",
   "execution_count": 1,
   "metadata": {
    "ExecuteTime": {
     "end_time": "2018-09-01T20:43:47.520956Z",
     "start_time": "2018-09-01T20:43:44.053666Z"
    }
   },
   "outputs": [
    {
     "name": "stderr",
     "output_type": "stream",
     "text": [
      "//anaconda/envs/fastai-cpu/lib/python3.6/importlib/_bootstrap.py:219: RuntimeWarning: numpy.dtype size changed, may indicate binary incompatibility. Expected 96, got 88\n",
      "  return f(*args, **kwds)\n",
      "//anaconda/envs/fastai-cpu/lib/python3.6/site-packages/sklearn/ensemble/weight_boosting.py:29: DeprecationWarning: numpy.core.umath_tests is an internal NumPy module and should not be imported. It will be removed in a future NumPy release.\n",
      "  from numpy.core.umath_tests import inner1d\n"
     ]
    }
   ],
   "source": [
    "%matplotlib inline\n",
    "from fastai.learner import *"
   ]
  },
  {
   "cell_type": "markdown",
   "metadata": {},
   "source": [
    "In this part of the lecture we explain Stochastic Gradient Descent (SGD) which is an **optimization** method commonly used in neural networks. We will illustrate the concepts with concrete examples."
   ]
  },
  {
   "cell_type": "markdown",
   "metadata": {},
   "source": [
    "#  Linear Regression problem"
   ]
  },
  {
   "cell_type": "markdown",
   "metadata": {},
   "source": [
    "The goal of linear regression is to fit a line to a set of points."
   ]
  },
  {
   "cell_type": "code",
   "execution_count": 2,
   "metadata": {
    "ExecuteTime": {
     "end_time": "2018-09-01T20:43:59.933048Z",
     "start_time": "2018-09-01T20:43:59.926899Z"
    }
   },
   "outputs": [],
   "source": [
    "# Here we generate some fake data\n",
    "def lin(a,b,x): return a*x+b\n",
    "\n",
    "def gen_fake_data(n, a, b):\n",
    "    x = s = np.random.uniform(0,1,n) \n",
    "    y = lin(a,b,x) + 0.1 * np.random.normal(0,3,n)\n",
    "    return x, y\n",
    "\n",
    "x, y = gen_fake_data(50, 3., 8.)"
   ]
  },
  {
   "cell_type": "code",
   "execution_count": 4,
   "metadata": {
    "ExecuteTime": {
     "end_time": "2018-09-01T20:44:37.864118Z",
     "start_time": "2018-09-01T20:44:37.631709Z"
    }
   },
   "outputs": [
    {
     "data": {
      "image/png": "[encoded data removed]",
      "text/plain": [
       "<Figure size 432x288 with 1 Axes>"
      ]
     },
     "metadata": {},
     "output_type": "display_data"
    }
   ],
   "source": [
    "plt.scatter(x,y, s=8); plt.xlabel(\"x\"); plt.ylabel(\"y\");"
   ]
  },
  {
   "cell_type": "markdown",
   "metadata": {},
   "source": [
    "You want to find **parameters** (weights) $a$ and $b$ such that you minimize the *error* between the points and the line $a\\cdot x + b$. Note that here $a$ and $b$ are unknown. For a regression problem the most common *error function* or *loss function* is the **mean squared error**. "
   ]
  },
  {
   "cell_type": "code",
   "execution_count": 5,
   "metadata": {
    "ExecuteTime": {
     "end_time": "2018-09-01T20:44:47.043568Z",
     "start_time": "2018-09-01T20:44:47.039576Z"
    }
   },
   "outputs": [],
   "source": [
    "def mse(y_hat, y): return ((y_hat - y) ** 2).mean()"
   ]
  },
  {
   "cell_type": "markdown",
   "metadata": {},
   "source": [
    "Suppose we believe $a = 10$ and $b = 5$ then we can compute `y_hat` which is our *prediction* and then compute our error."
   ]
  },
  {
   "cell_type": "code",
   "execution_count": 6,
   "metadata": {
    "ExecuteTime": {
     "end_time": "2018-09-01T20:44:52.518635Z",
     "start_time": "2018-09-01T20:44:52.512140Z"
    }
   },
   "outputs": [
    {
     "data": {
      "text/plain": [
       "4.2526373204383825"
      ]
     },
     "execution_count": 6,
     "metadata": {},
     "output_type": "execute_result"
    }
   ],
   "source": [
    "y_hat = lin(10,5,x)\n",
    "mse(y_hat, y)"
   ]
  },
  {
   "cell_type": "code",
   "execution_count": 7,
   "metadata": {
    "ExecuteTime": {
     "end_time": "2018-09-01T20:45:21.010704Z",
     "start_time": "2018-09-01T20:45:21.007547Z"
    }
   },
   "outputs": [],
   "source": [
    "def mse_loss(a, b, x, y): return mse(lin(a,b,x), y)"
   ]
  },
  {
   "cell_type": "code",
   "execution_count": 8,
   "metadata": {
    "ExecuteTime": {
     "end_time": "2018-09-01T20:45:21.364501Z",
     "start_time": "2018-09-01T20:45:21.358843Z"
    }
   },
   "outputs": [
    {
     "data": {
      "text/plain": [
       "4.2526373204383825"
      ]
     },
     "execution_count": 8,
     "metadata": {},
     "output_type": "execute_result"
    }
   ],
   "source": [
    "mse_loss(10, 5, x, y)"
   ]
  },
  {
   "cell_type": "markdown",
   "metadata": {},
   "source": [
    "So far we have specified the *model* (linear regression) and the *evaluation criteria* (or *loss function*). Now we need to handle *optimization*; that is, how do we find the best values for $a$ and $b$? How do we find the best *fitting* linear regression."
   ]
  },
  {
   "cell_type": "markdown",
   "metadata": {},
   "source": [
    "# Gradient Descent"
   ]
  },
  {
   "cell_type": "markdown",
   "metadata": {},
   "source": [
    "For a fixed dataset $x$ and $y$ `mse_loss(a,b)` is a function of $a$ and $b$. We would like to find the values of $a$ and $b$ that minimize that function.\n",
    "\n",
    "**Gradient descent** is an algorithm that minimizes functions. Given a function defined by a set of parameters, gradient descent starts with an initial set of parameter values and iteratively moves toward a set of parameter values that minimize the function. This iterative minimization is achieved by taking steps in the negative direction of the function gradient.\n",
    "\n",
    "Here is gradient descent implemented in [PyTorch](http://pytorch.org/)."
   ]
  },
  {
   "cell_type": "code",
   "execution_count": 9,
   "metadata": {
    "ExecuteTime": {
     "end_time": "2018-09-01T20:46:35.600300Z",
     "start_time": "2018-09-01T20:46:35.592458Z"
    }
   },
   "outputs": [
    {
     "data": {
      "text/plain": [
       "((10000,), (10000,))"
      ]
     },
     "execution_count": 9,
     "metadata": {},
     "output_type": "execute_result"
    }
   ],
   "source": [
    "# generate some more data\n",
    "x, y = gen_fake_data(10000, 3., 8.)\n",
    "x.shape, y.shape"
   ]
  },
  {
   "cell_type": "code",
   "execution_count": 10,
   "metadata": {
    "ExecuteTime": {
     "end_time": "2018-09-01T20:46:35.868294Z",
     "start_time": "2018-09-01T20:46:35.860998Z"
    }
   },
   "outputs": [],
   "source": [
    "x,y = V(x),V(y)"
   ]
  },
  {
   "cell_type": "code",
   "execution_count": 11,
   "metadata": {
    "ExecuteTime": {
     "end_time": "2018-09-01T20:46:42.516000Z",
     "start_time": "2018-09-01T20:46:42.497020Z"
    }
   },
   "outputs": [
    {
     "data": {
      "text/plain": [
       "(Variable containing:\n",
       " 1.00000e-02 *\n",
       "   4.5686\n",
       " [torch.FloatTensor of size 1], Variable containing:\n",
       "  1.7744\n",
       " [torch.FloatTensor of size 1])"
      ]
     },
     "execution_count": 11,
     "metadata": {},
     "output_type": "execute_result"
    }
   ],
   "source": [
    "# Create random weights a and b, and wrap them in Variables.\n",
    "a = V(np.random.randn(1), requires_grad=True)\n",
    "b = V(np.random.randn(1), requires_grad=True)\n",
    "a,b"
   ]
  },
  {
   "cell_type": "code",
   "execution_count": 12,
   "metadata": {
    "ExecuteTime": {
     "end_time": "2018-09-01T20:47:03.211323Z",
     "start_time": "2018-09-01T20:46:59.571888Z"
    }
   },
   "outputs": [
    {
     "name": "stdout",
     "output_type": "stream",
     "text": [
      "60.22076416015625\n",
      "0.4645123779773712\n",
      "0.09360551834106445\n",
      "0.09023050218820572\n",
      "0.08937963098287582\n",
      "0.08873763680458069\n",
      "0.08824516832828522\n",
      "0.08786743134260178\n",
      "0.08757740259170532\n",
      "0.0873548686504364\n"
     ]
    }
   ],
   "source": [
    "learning_rate = 1e-3\n",
    "for t in range(10000):\n",
    "    # Forward pass: compute predicted y using operations on Variables\n",
    "    loss = mse_loss(a,b,x,y)\n",
    "    if t % 1000 == 0: print(loss.data[0])\n",
    "    \n",
    "    # Computes the gradient of loss with respect to all Variables with requires_grad=True.\n",
    "    # After this call a.grad and b.grad will be Variables holding the gradient\n",
    "    # of the loss with respect to a and b respectively\n",
    "    loss.backward()\n",
    "    \n",
    "    # Update a and b using gradient descent; a.data and b.data are Tensors,\n",
    "    # a.grad and b.grad are Variables and a.grad.data and b.grad.data are Tensors\n",
    "    a.data -= learning_rate * a.grad.data\n",
    "    b.data -= learning_rate * b.grad.data\n",
    "    \n",
    "    # Zero the gradients\n",
    "    a.grad.data.zero_()\n",
    "    b.grad.data.zero_()    "
   ]
  },
  {
   "cell_type": "markdown",
   "metadata": {},
   "source": [
    "Nearly all of deep learning is powered by one very important algorithm: **stochastic gradient descent (SGD)**. SGD can be seeing as an approximation of **gradient descent** (GD). In GD you have to run through *all* the samples in your training set to do a single itaration. In SGD you use *only one* or *a subset*  of training samples to do the update for a parameter in a particular iteration. The subset use in every iteration is called a **batch** or **minibatch**."
   ]
  },
  {
   "cell_type": "markdown",
   "metadata": {},
   "source": [
    "# Gradient Descent - Classification"
   ]
  },
  {
   "cell_type": "markdown",
   "metadata": {},
   "source": [
    "For a fixed dataset $x$ and $y$ `mse_loss(a,b)` is a function of $a$ and $b$. We would like to find the values of $a$ and $b$ that minimize that function.\n",
    "\n",
    "**Gradient descent** is an algorithm that minimizes functions. Given a function defined by a set of parameters, gradient descent starts with an initial set of parameter values and iteratively moves toward a set of parameter values that minimize the function. This iterative minimization is achieved by taking steps in the negative direction of the function gradient.\n",
    "\n",
    "Here is gradient descent implemented in [PyTorch](http://pytorch.org/)."
   ]
  },
  {
   "cell_type": "code",
   "execution_count": 18,
   "metadata": {
    "ExecuteTime": {
     "end_time": "2018-09-01T20:49:59.339488Z",
     "start_time": "2018-09-01T20:49:59.334332Z"
    }
   },
   "outputs": [],
   "source": [
    "def gen_fake_data2(n, a, b):\n",
    "    x = s = np.random.uniform(0,1,n) \n",
    "    y = lin(a,b,x) + 0.1 * np.random.normal(0,3,n)\n",
    "    return x, np.where(y>10, 1, 0).astype(np.float32)"
   ]
  },
  {
   "cell_type": "code",
   "execution_count": 23,
   "metadata": {
    "ExecuteTime": {
     "end_time": "2018-09-01T20:50:16.022145Z",
     "start_time": "2018-09-01T20:50:16.015621Z"
    }
   },
   "outputs": [],
   "source": [
    "x,y = gen_fake_data2(10000, 3., 8.)\n",
    "x,y = V(x),V(y)"
   ]
  },
  {
   "cell_type": "code",
   "execution_count": 24,
   "metadata": {
    "ExecuteTime": {
     "end_time": "2018-09-01T20:50:16.290394Z",
     "start_time": "2018-09-01T20:50:16.286942Z"
    }
   },
   "outputs": [],
   "source": [
    "def nll(y_hat, y):\n",
    "    y_hat = torch.clamp(y_hat, 1e-5, 1-1e-5)\n",
    "    return (y*y_hat.log() + (1-y)*(1-y_hat).log()).mean()"
   ]
  },
  {
   "cell_type": "code",
   "execution_count": 25,
   "metadata": {
    "ExecuteTime": {
     "end_time": "2018-09-01T20:50:16.813255Z",
     "start_time": "2018-09-01T20:50:16.809587Z"
    }
   },
   "outputs": [],
   "source": [
    "a = V(np.random.randn(1), requires_grad=True)\n",
    "b = V(np.random.randn(1), requires_grad=True)"
   ]
  },
  {
   "cell_type": "code",
   "execution_count": 26,
   "metadata": {
    "ExecuteTime": {
     "end_time": "2018-09-01T20:50:20.580585Z",
     "start_time": "2018-09-01T20:50:17.480362Z"
    }
   },
   "outputs": [
    {
     "name": "stdout",
     "output_type": "stream",
     "text": [
      "-0.9054767489433289 0.3722\n",
      "-1.1274538040161133 0.1548\n",
      "-3.293872356414795 0.3369\n"
     ]
    }
   ],
   "source": [
    "learning_rate = 1e-2\n",
    "for t in range(3000):\n",
    "    p = (-lin(a,b,x)).exp()\n",
    "    y_hat = 1/(1+p)\n",
    "    loss = nll(y_hat,y)\n",
    "    if t % 1000 == 0:\n",
    "        print(loss.data[0], np.mean(to_np(y)==(to_np(y_hat)>0.5)))\n",
    "#         print(y_hat)\n",
    "    \n",
    "    loss.backward()\n",
    "    a.data -= learning_rate * a.grad.data\n",
    "    b.data -= learning_rate * b.grad.data\n",
    "    a.grad.data.zero_()\n",
    "    b.grad.data.zero_()    "
   ]
  },
  {
   "cell_type": "markdown",
   "metadata": {},
   "source": [
    "Nearly all of deep learning is powered by one very important algorithm: **stochastic gradient descent (SGD)**. SGD can be seeing as an approximation of **gradient descent** (GD). In GD you have to run through *all* the samples in your training set to do a single itaration. In SGD you use *only one* or *a subset*  of training samples to do the update for a parameter in a particular iteration. The subset use in every iteration is called a **batch** or **minibatch**."
   ]
  },
  {
   "cell_type": "markdown",
   "metadata": {},
   "source": [
    "# Gradient descent with numpy"
   ]
  },
  {
   "cell_type": "code",
   "execution_count": 27,
   "metadata": {
    "ExecuteTime": {
     "end_time": "2018-09-01T20:50:29.569723Z",
     "start_time": "2018-09-01T20:50:29.564545Z"
    }
   },
   "outputs": [],
   "source": [
    "from matplotlib import rcParams, animation, rc\n",
    "from ipywidgets import interact, interactive, fixed\n",
    "from ipywidgets.widgets import *\n",
    "rc('animation', html='html5')\n",
    "rcParams['figure.figsize'] = 3, 3"
   ]
  },
  {
   "cell_type": "code",
   "execution_count": 28,
   "metadata": {
    "ExecuteTime": {
     "end_time": "2018-09-01T20:50:30.374731Z",
     "start_time": "2018-09-01T20:50:30.371078Z"
    }
   },
   "outputs": [],
   "source": [
    "x, y = gen_fake_data(50, 3., 8.)"
   ]
  },
  {
   "cell_type": "code",
   "execution_count": 46,
   "metadata": {
    "ExecuteTime": {
     "end_time": "2018-09-01T20:53:50.085087Z",
     "start_time": "2018-09-01T20:53:50.078698Z"
    }
   },
   "outputs": [
    {
     "data": {
      "text/plain": [
       "82.39254286019194"
      ]
     },
     "execution_count": 46,
     "metadata": {},
     "output_type": "execute_result"
    }
   ],
   "source": [
    "a_guess,b_guess = -1., 1.\n",
    "mse_loss(a_guess, b_guess, x, y)"
   ]
  },
  {
   "cell_type": "code",
   "execution_count": 47,
   "metadata": {
    "ExecuteTime": {
     "end_time": "2018-09-01T20:53:54.922382Z",
     "start_time": "2018-09-01T20:53:54.918107Z"
    }
   },
   "outputs": [],
   "source": [
    "lr=0.001\n",
    "def upd():\n",
    "    global a_guess, b_guess\n",
    "    y_pred = lin(a_guess, b_guess, x)\n",
    "    dydb = 2 * (y_pred - y)\n",
    "    dyda = x*dydb\n",
    "    a_guess -= lr*dyda.mean()\n",
    "    b_guess -= lr*dydb.mean()"
   ]
  },
  {
   "cell_type": "code",
   "execution_count": 48,
   "metadata": {
    "ExecuteTime": {
     "end_time": "2018-09-01T20:53:59.985309Z",
     "start_time": "2018-09-01T20:53:58.711538Z"
    }
   },
   "outputs": [
    {
     "data": {
      "text/html": [
       "<video width=\"500\" height=\"400\" controls autoplay loop>\n",
       "  <source type=\"video/mp4\" src=\"data:video/mp4;base64,AAAAHGZ0eXBNNFYgAAACAGlzb21pc28yYXZjMQAAAAhmcmVlAABMQm1kYXQAAAKuBgX//6rcRem9\n",
       "5tlIt5Ys2CDZI+7veDI2NCAtIGNvcmUgMTQ4IHIyNjk5IGE1ZTA2YjkgLSBILjI2NC9NUEVHLTQg\n",
       "QVZDIGNvZGVjIC0gQ29weWxlZnQgMjAwMy0yMDE2IC0gaHR0cDovL3d3dy52aWRlb2xhbi5vcmcv\n",
       "eDI2NC5odG1sIC0gb3B0aW9uczogY2FiYWM9MSByZWY9MyBkZWJsb2NrPTE6MDowIGFuYWx5c2U9\n",
       "MHgzOjB4MTEzIG1lPWhleCBzdWJtZT03IHBzeT0xIHBzeV9yZD0xLjAwOjAuMDAgbWl4ZWRfcmVm\n",
       "PTEgbWVfcmFuZ2U9MTYgY2hyb21hX21lPTEgdHJlbGxpcz0xIDh4OGRjdD0xIGNxbT0wIGRlYWR6\n",
       "b25lPTIxLDExIGZhc3RfcHNraXA9MSBjaHJvbWFfcXBfb2Zmc2V0PS0yIHRocmVhZHM9NiBsb29r\n",
       "YWhlYWRfdGhyZWFkcz0xIHNsaWNlZF90aHJlYWRzPTAgbnI9MCBkZWNpbWF0ZT0xIGludGVybGFj\n",
       "ZWQ9MCBibHVyYXlfY29tcGF0PTAgY29uc3RyYWluZWRfaW50cmE9MCBiZnJhbWVzPTMgYl9weXJh\n",
       "bWlkPTIgYl9hZGFwdD0xIGJfYmlhcz0wIGRpcmVjdD0xIHdlaWdodGI9MSBvcGVuX2dvcD0wIHdl\n",
       "aWdodHA9MiBrZXlpbnQ9MjUwIGtleWludF9taW49MTAgc2NlbmVjdXQ9NDAgaW50cmFfcmVmcmVz\n",
       "aD0wIHJjX2xvb2thaGVhZD00MCByYz1jcmYgbWJ0cmVlPTEgY3JmPTIzLjAgcWNvbXA9MC42MCBx\n",
       "cG1pbj0wIHFwbWF4PTY5IHFwc3RlcD00IGlwX3JhdGlvPTEuNDAgYXE9MToxLjAwAIAAABzjZYiE\n",
       "ABD//veBvzLLXyK6yXH5530srM885DxyXYmuuNAAAAMAAAMCdMWy7nddDaYdgAACtIV+EQoOYBPx\n",
       "zfWrsMIXgNOBN+Wsfvydh/YZ/zZuoPNH/i7c0GF1PAaYvlwdgshKkKYCxe9Z/dmqdROI41CPOiuN\n",
       "RlD+5FSlh4zUjYgxGnxYePb/X6Atx0htMeb1twFA06hY7g2F4aD4X+qD/mHd0ZD3JauIlxs4kWoF\n",
       "Fw3bOrAw6vo4Kf604KsB/NdVdxvfl51w/pUFS3w3+gdPP7TE8ccQDbl5419RA7z/nrPCDq+C1uIW\n",
       "60DdFE0jlByITdgyh/5ZtoMklFnfP2zKJ8l+aLVcOtDcik608Uz7znFFZCj07X+Lr8Y87hTaxkcE\n",
       "VhobMscQWcNtYKkhAQUMTFs2d4RIXJlwYG04qNcV+L0WqzwIynUTpaG42JdejzSGPgr9NTBPmeLa\n",
       "ptToDMWhnGt7luQxljNl2IpKBVvz+jszj3YMIIM9kJiBukuSR/F60k4JQRRduXsTCFl1RX7DW/Oj\n",
       "+7xRQ8+/NJMuPAKjIgsM+BzzbnSGBVogs7hg6hD7GMhmyPIHLG/NeZrS6YT+qMEWk9ZwP378HL8N\n",
       "Gvl67QOzv7MpUBiB7l9h1b5JM60cV0sJOP2oKAajByN+RodD7wZohY8jKnrMvPPB3oRISTfgCjKm\n",
       "o/wEQoI8rcu51E9stJ/El/DVu9UFHcjSFP/BQmRRsYNh91IK5TgUSyv85d240Mc0R+kct9gi3KXT\n",
       "GlImF60l04QZIAXa3dm61trRkXMklI64VvZEsaElI+SqzZT0igtmQhjWva2sD3RPjNL7ShrAzwPZ\n",
       "U22X6WMbgMuL/3CI95uk+NktIlos6SjnJITAIUantWMhTGvIau5rqpuWg7/zAubzMaifeIhekW6F\n",
       "psv6bHoGpUAnX5U+VYN37PScXvsUsks8y3wMpwsO9ADXC52M8zimNrsGcDP2j/x/fx4kqcixmNjO\n",
       "ndUK/d8+XnAZu9VI/z93U0hsJvcif6YUWxmsiAcSJPVUnIJ1hGKAmluJdK99f184FIEFx8i6f5FL\n",
       "VqWq7bUJvXHK0UmKM8sNT3D4cz2VROkbZeBDcidFem3cPrZ1t5EpfFERUb+B9yzNZDw4KCKPvLzo\n",
       "yj/fQl/7aB6x2dgsbtSg9HqWGcZJrAYTUopIY8mrUBmY35vHoO93iQYnzc4OoB4bwjI2V8ePiwWT\n",
       "FtCAbKT0uNcXQ6Px7SC6iJCca3ntr0Woq+IT0pwVU1N8Znlw1SNPJMcnTN11tfYimx6+aQeO0FT5\n",
       "99ec46+umz/o1D+2RZsu2HucdYrZLvH7jizqa6nWnN1fMBFogrXtgk8yEOBoqdWx3gtUYdwIsikx\n",
       "A+NUoMD7/uhXOYE3Czts6K7Me85qGGTNbqLL581GYCteHbVmse8PbjhRYFIhwz3+laQ12dVELqF0\n",
       "ajUk4pzpIaWt8j5Z/aGAwpkZLlX2rghUg3ByInRWH+3ew7sYeGFm30wkQeRlAtGnqdBG0igpNGvp\n",
       "b5tQEXQJSj0P4f8mT63NAdMRJABXvoYJ5uBHkOKnjuPAgK+o8kyVOnCKY34OM6Vb/13jkyoRa2Sc\n",
       "A7p4fpvD4ApGBgUiCtdshCYagFdar6Tq1SASyQHSEMVxq8MOfbgpC9dFxZ2vnDtZZyBWwSgb/j7g\n",
       "+ZfThsgqYbxeJuNyv5R7RwuieBdC02xHYvHWOrD/iMWsW1u2MG99UhLDxC/zVr0Qj41ilW5qczNn\n",
       "Dwjs8h19VNhhkBE8xZVX6qmudui/wNabwt6qEGRwRHMkwIzk+Gs/W3e9i3OFtQXcr6DN3pYKT02B\n",
       "0K8qkK3864CeIOn4bqN+qtGnF7oyYdJAyWtz11F+1bZ4XMLePN6dp9NXj7KLwDAFv7ItEAAFI+5D\n",
       "ghVXzsbspXyGNK61NfL/owi+qROwRqLavDNPmCiaJ3omROxs/X9Ke0biI5IXPjtCK4vaZgGFppP2\n",
       "/jI5BRccy3CVrplIT7ueuYsa3i4cFALG2HMcfKVMl1iCSJMaVCJMASOBxxoHus1ClAQmqQ/WXQn0\n",
       "LXiwpdRsj1gmLfr7/8uF5iruAA0x5rJ15rTDOqtPGyWpsyQUfMBJykaXnTBoKKg60qk+1YuISsrR\n",
       "AvtV8uFEryeVKSIxyx0Nbry1jkXQ/nmdghc32ZPDtLDd2fpk6GMGiw4GuEsZniYTpyUObsp0X9kF\n",
       "KSUMDKZioo0m20qmNoZuFTuNZUZE4yWGPH+1luoar/Etbh1Qg77ymyIXle5/+ri21fV/q1o7lkHL\n",
       "F94nThV5DSC85+k+MsqERml/FEk/wcsllfZHxn2HJb0l/C148LamFSjG2aPP4uY37beuyoygsI/W\n",
       "+py9sttYlem4t3Fceu+qdjSib1I6aNSz2h/6Cgl4XRGhvyFRuiW2OZinJCDAUq1HS16Yo+fF5moD\n",
       "SWrS9/YqQuUXifJDOp7n3Yw1rAjo8h2n6rMdpaUDEg2KwZgCsFAUYDF7BNEl4DD5P5gObZUWHgG1\n",
       "gJYGnppRcqlYBkXSZhzGrKQygfwGcC8hNbmcVo+9VZsQpZO7ZJB7QnZpAr7aYmIm9+mj1+sSoto2\n",
       "CVR0NQfUGU3igsjaXBwGbqIXcu9LB1x9oYZaLlo7mcpGy/wetve3PGy1JhD+Qx/fAejHUaq4NYo2\n",
       "Zys712vwPN4/FS3RnzqE/SEuLmrwVPBlmNK6AefM+uW3pTFlw+qJksX7anB0s6frGwHo9N1/rpLg\n",
       "FesZLeny8MzmaQPezOVGEbFwU3j5KV8S02Q+/ggSjPxX9qrnLIen0DsdkMSZR+kXXlESOlWwuJRe\n",
       "d6jbaTkKvtoMb5rGRa/4rvsbbgu148JhR0svD2tNcjLdjB6IKYdyO+ZrBOMhsJZnIsAtustUv7AM\n",
       "ZLWQ1rNYf8Qt5/FmW9yAc9gLmD5byEpZI/riPuGn0LZUIn8tuLU8WY8ZLNot//XROi7/rh6Vhmxu\n",
       "cxqtF6NpUNcXcSSCKbyRR0KcdcRegLM2NxJ+IXapeyF//Qdz9NaAoB3+8mqZIcClx6T5peAEbCaS\n",
       "m+r6nIIrBvxh4NahyIWCTPHf+ujkMUlgDQ6csI/mzS6jl2aszIsRi235XOtav2/NqV7Xa4Dx371a\n",
       "pcxT5UdtwCQSqViYcYITgdjn9XPwhxpnMKA0xLdHSdJfAXBYy5Wx98A7WPO7pz+uaXGNbaeepqPB\n",
       "w9YaHjImZr0SNNm8Tx+N680krCzuOG1a7Mmud0hZV2PYOkYf7l6PSisPjoMY8IVL3p4EPOGOsI3Y\n",
       "G/cY/vub5fhKVehuqPBVfYTpfxhJMB099gBJJMkWVBNNW+zi9Uj62hT9fVriJR9tqym/bXfbk8JJ\n",
       "t+1oIjLleXdFJCj0jECHSb9AwyqrjA5y3+1Xgjwm+Nf8xaRjo/OgIjZKe/xV/UkP94u2OIko7HJO\n",
       "9vlRW9NwwXyXGQQW3o5R04Kmek9DClFu/rsm6ZAn6m8U4GG+98j+aNyBZ/RiGuPh+K8dYVrByrdk\n",
       "ZoanDsQomm3QBxytwH2ydpnSWPPdmYojWpctNQ2yKOKELCQpCoUxRB5e/cmG4ErmPyeY054Po78I\n",
       "ZPmCFSlcr0fFp7ChGNBf91VX7W7hQx8MmrPk466hCJ6reruL6UtzOYmjRsYm3DK113VPiL1KWbpA\n",
       "/mG/vcLzWZseBNDL16G6qkjlqXmZoBE8D3VKlKp6Q9hytSRQi1UEou6Dlxqn1Dupubr1G+gYR6Nf\n",
       "N+sC6AXIWKWvDO6p8rKO+9HSU87QEqf7ImuWE9YshS2y2Wn8j6AUXR2iZh9NMODUufhlS3umrxLH\n",
       "JtFRDmtLg91kCN5feqGD+xoHC0dG2ul5/jYCHDlyMDvrL4EK64rSEboWH2UE8CiioCUg30QpztZ9\n",
       "UiX4R5GUTqmjtEBDXMcLPagJhv6X28qYfvFFn0PCagooVi3N5Rl2uDvXWw/67vmtJQXinq1+AfBh\n",
       "dkOjdtV4HTfLSdBiZGrhZqL8y3MP9oQkUBpcwzwQCbRk7GUNWKeURjR4H8TwdD7ktASR/+NTYBaM\n",
       "OQtanOTxdDVQSl/Bn2Ch6lbNv1VLEJByzla0jxk4NiV53EWtS0keIbE/7hyk2SOdtU6E1TNNdf7/\n",
       "qOsNAtgUOBpA7/t8cQoz50Wis0+0GiFj0iORM+RXCcLXWNwOpTJ1BHAO+UpgSqUjF1tlnXmM9gde\n",
       "RR2QGfq+PAAohteT9qhBWxh3mCxc0IJn10DQhAul/+CPur+C4fSYHZCZaJL8vGQxUmc85HAM2Qce\n",
       "MoQaQ72LF+tsFW43FYDz45d+T4T1rHifjPOPaYFbwKoSASdL2hBjYvREiXEZ1CKfoUer7iSwON7q\n",
       "iFDUqguzCsiqPvfbfmlcuaO0th5X9SQxFu3vwUlWgs8X4UJN1o//DwYX080UgfOoYftMo1as/MxN\n",
       "05HSVdix4RljQAX6G8R0c39KQqRthsVA4apqSiDt6ZbndCbkzBmAbyGu0YS3keEi3+jNouZ+QJ5G\n",
       "/AqJkUM2kYOtGNqGpNpmqxai+oJO5DGwtyNmAf2fPNFlLKctsYekP3++mE4AoSNe3lW1LQmA7lgN\n",
       "fAyLZUR5YMAN87A7o5CZG44FYvFyzWdnmYgPoFgh9IF33LxzIm54pcDpn3RoxZiCGacBQ6Z2JRMT\n",
       "RbaotH8s994QwKBdVk/T6AsnJ1R4s0tsXUnLeObVjymeh57DZ/GVvzuOg1s66ZHq/z7lYdv6MQaS\n",
       "HpODEDFFR/4tlM3Y+Ns5Rmt7GlKDf79XQl4jK7lduna1ZZAD9KMI5jkxUIpyvSQD4GD+4/laWRCz\n",
       "1TUtJ74Mydmu7s6nwYZLOodp1h7tAazkRVIaxxixDJWy9JFYjb6XFwj/2ucqYUYmNqrgI4B3e6NS\n",
       "3NUbEdEeZ/kA8Nhtd+VAyUb+6Arl9aiQ4nYRgvDV1yvzmkmGBqoK2RqRPSaarpUYEVvQ1kVXzxWE\n",
       "iQWdorg4fOkd9ct1hlZzmlX4XvF6nFPxk41bE7mwlV4Xh8X9U8atJuf+g4IRy9f1mz6cP1e3Kwce\n",
       "2tZ5uJYaoNaU5idbAiD71KCE5OJ+aFITaxUnyr2yuvchmTMSTBag7DMpUdhpnGMD3yOosjeuMR4y\n",
       "0Fh2wPEU3G9Ir+K+o2FbPmqgxQgd+sgDeBMtYMXQOCZ/L8QXn53sPFxFUVnF8smGmiILz0Q0vO55\n",
       "6kKxDcgleM2Qlydz3xTSb+afBc1ycH//THZLtNK82002U2lALbYZA/vLWuDK1H9RjC7qSHyQ3vld\n",
       "KZ8RONGMLGS2j9UF/bGJVRBk48TmisB70ac0SxCla0CmTZUsrnjMfKhCSejh5qM2cZO6VjJw0S6W\n",
       "IaNNeLdPOKRPh42imdEShORBjulQ8pNb4AvzCaW/xra1F9EymkX8KgPvB9gwfxObxRI9Bk2yqZBo\n",
       "to6OOSMTeWNPRxN9JPI0Z82XhUS5VFEojNXqLxC3Ex1ltBmmYpjgmD63OlBpTJv+dUi1YC353d0T\n",
       "fecIKTdQ7RUVGf/Wc37PgIm7dmpfrMnUK3gsqfh05zzB5/MPmO6UgZHhGNzSaBQxBEYxVr7h7wll\n",
       "NyE3mhjBY6qUwUv76B8mzJAlAIhhTEXmxxm3DWySwSRjf7izfskTbrQNea7zDWxaMuaA8Lidv/WS\n",
       "D0c6R5Ynjli/tNUWzB9gDf/Bv440riUJgTf4K/d7FYzDkyyeySk3o2vX5zz08R00TmTHpRrojEbv\n",
       "iI3EgW6r6rvb4IE7ttlclU64uTfBy6rORBM44kPwEu+HK58HGj9r9tkfrUNo2wW83RNcF3KNNoNL\n",
       "0NpuCJm8ALECW4VP0qHGcLJngSdUHN5IeKi9VQKb1uickZ6aU/O8y4j81Rlw1uKSyrxdGEYoQejC\n",
       "WIeGCuylC/FOVu59Tk6N5c1hVHdKSa8lSP7vqPkQDb05Jbnw9LwIwYGuqiVvswin7GLujpBhC8Nn\n",
       "pyWINRMMLlu83XhMmxEgDQZW3SQMrdqdgnmOlZnxvNvVX6JdamkYuBWxNkUW0Zddm9v0T8k8hPAI\n",
       "UoZ81/VxvSCaKj7HmSkjHTfov2gcGwpoHsDYecIVHdahE60MKL6qlm94OrbD2xc/HBBaOw5qm0/g\n",
       "8OoSTt8enr7M37lXfqIyzXJTR7TKCBLqzPcqLcSi9BJjj6YR8sn06x16nad8Dq0SQzPObPbDihtk\n",
       "uXPxE/dnEh60ZV7NbTWsN9/G3fJ1gKhaf1XKl1MrJndNnrgAomQPGxlyUfxm0K/wCtSpE5LaGbmm\n",
       "1JiVOw75kysOM0yb+FF1DgdrJvMZlpVsiPkAZrEYfLXeyc4PTNqpeDy16gXLYChNIojWwbCE5Big\n",
       "zVcPb/JpJ73tVFi4pR0NKXsJX3gNF212ZhBkmTmI8K0G+w+TJ5ppXZn1ROfcYLrOHYABYOqSWOEv\n",
       "Wo2ywLncR8sZwlrrhMhdMls11WHfJFOFJPBTP9vLjWuxZqw1BHGzful1M0SpomZeJdfQ8/Wgi/uu\n",
       "yix7VBcezyhFQAD9ZLgBzWApnlfLaBIe5M1Tnpf9AFQ4z03mdHX7GJBmml9B52HCMzNPDQYd3KSm\n",
       "sBn8EWzPKoGtQSOLmA2DQQhzudba+Eg+W4eJTrSL67dic7pY98gmtm02oxu0MF5HIrehaLR78127\n",
       "n9QEYEAr7e6FiZdjUL3V9ErQf9bY0tq95s7GLjlhr9l2PMaazybNrpO+wUqP2mew5+Euu+6/qaMn\n",
       "8Gj2u8LoGQQp4JLeYm1bBV9CELmBmneHoVgYsgWjfi45ERe8M60a+/RQmMn8sKzm5pfndYS7Hv+s\n",
       "gE/yuEQIk6USr/xA/pcO8P/ymlI6uuWMHq4Vemdefyc3OFnGB8EkyuzNxi0CQ78XTKHy7PS6hSjc\n",
       "+h9S3G+D6FN0ayPUMUKl2ApUTummhcXCicTmbHOeFeJrnpwuAmjzEIZOuYY4P8dUJz43j9/7EQE+\n",
       "MoFSpmRXR/eEboH8HEj97ycUOJQiy93f0nNDYaG8hLmR/ETQm6ZwAWu9ndulqoDtvhhJrr2vmCWS\n",
       "LbuAYudD1YxBDk9iMkEjqkAWrhGsVMBnU+CaAF109i2GL+BIkEF1WSbtFBsyMlEIdMcbSs7UmzGh\n",
       "Po43Hi4Ifznvq+6Pq7Y/pyW8j7ldNatPUZWgd6PExW6LCgdHxitfE+/RjVOGlNlctEMZBmaYcQAb\n",
       "46r2N58PCs8HAApzX4ue1wtIxonI3Bb5eHb7H+vg5PG6ciugQpPDFGdWzX1RK2uQgpm2Fyb/VVSo\n",
       "apxwaOQg+cjp3iqTLDuwpsTbZiTEnMrfvb10vl4HvrorS1S7eEMzGfSCBmgabTLfKmly+7PX6E4e\n",
       "X5/zS3HMZcUv6PPTg3pv+ODp1Rhcc/dhqq5wg1lFwbVcNe0RLt8WMNjHp19MXqGv9EZ0F3m8ssBO\n",
       "SyGO/D7ktOl5uFDQQPRSeLhu8DONUB8hCmh3XPyUzJVDI9d2+HtJ820Gk0jjcbMB3b0sdNRCV+IU\n",
       "/uBycURGza/ei+uqoQr6U0N6meVSrP1DJdpUwEMdJtJdP6z691XAhrkriIYxzlEGMEVJvZAwW/WQ\n",
       "/lAy/pbwsqcZJEpZrPWjWCVmcpG5pdSpwm3fB7KjdtfRDz+rVtCBivm1DfTVsqcccMsKdCa8N6co\n",
       "Ms6hY1ipAiz4qKAypiLZSNEB9CrUiD3PBCMT+o1YdsvYv/s+JgUMmegE51AF+jHz5LbkQwoBrno5\n",
       "W3FxFBE+HT+nzoo1ItkGK19MwuUBW2rzxFIlXg5mrSJUt4rIW/HV+GFYch3vl1YtfrYm4BZ7AOwo\n",
       "u4fcf1IUj8BkJz068x0LkH7MNJMF40Jn86smeabPkKXW6eSsFWAqeitrmsyVGcAAMMmYa82bXX4I\n",
       "ENN952YsArhJiHTO7SvIvqOo77Xvr+820v5nOAUN/3C3R9hFcKR8DH5Or37u4n9JQ7BB9FYfELTc\n",
       "HauDiag3rva5vPZtJM3vvIS9nHZNaYjMWwrS2pkdK4jPS8nD6AIQE/NdaoQJx/9GIDpOKIwY3b2F\n",
       "2KTMQoXEvDzbbypfG49vOAhZCeUA86sTYBz2J5Ze/irqr+YG4m5nhW2C1tIh4GrTVMyLkoJUIxgb\n",
       "IyUagdCVkR7mGCIccF4cP7UfRQxtuTi689FPNBk+V8+P9x2ku3/UYBhWxmhENW/XOGts/uA8flEz\n",
       "8ubFYMRIQEjEHgxN/KSlMv1sz2hOSxKKN3ocYpOq+Rmupq+ziULUqPkvp4Po02QuzNdfdDISXkVq\n",
       "xC8W7szsYKb38ycmtUOXosz5CucCS24EVAdlm0BrilTZwRscZ22u7LnjJ0WAfum/94hMI1H3HbvR\n",
       "fjLBVUg096gwP455BQpSyuh9Zce/VsfkkM1KEpeTONpSqB7+MwaZlB0izJVx/mkBKoJOgzJD883p\n",
       "2VqxZND1BE2wveJ+ErcA5TvE3tCiPWQTjDAJOnzsMiWMbU6PqyAiS4rM9ohS5RX/20fbCX9hkHBF\n",
       "cnlVzrm1BNYDqM+oZIZT6KEdeTPMeZZfKZpkEdNf+f1iCWvTUxwHzlBx3YSIcKrs1wj3A6eu8aNc\n",
       "SxU0ooF7cMGyeMdEV2sLiVsdKz1MvtnMVrg0OZPcmQkJjIkKMqZ4Wx9WxeS4mWynhfqqcfQyyi/U\n",
       "/lMkKBmBfvzHaa+quT5sNRzhFXz+AY1quT4cMMuOLbAAzvUGDoqZ/EEz4d0FKK6W0w7XUP/bh03L\n",
       "q1hKc1KrmhAXIEAccXgJf6nzwtZt8gnMIEfvbCA9Aq8gS5jGVL171fGpREJ9AZCg4dYfaKmOW6qC\n",
       "kEA+ewHr3M2O2vTA29wtxA5jh58KixhUL/S7kwgCBlGHpzKwOzcNXCuQGPegTkATxNFdVNSL/S2G\n",
       "SOosHkkLWMRt6q+9MMjJr2j7+LUXzE/CtGnFNEkg1L3OWWI36VJJwRLl6WbWO1mPjsbI7yw/zvyh\n",
       "g2B+7B6vBt2wVT/dajrCJuAvgaC4gH1uJN9HtP7SuuTA7v3jgQEpDFt0OkxddciFuZajA/wkAKOn\n",
       "fyGhH/jioJQ/46z3s/zRimelNy+IJ9xLedFcq1cjntGTvFyghzrGVCW4gzRKg37Pab53E9eD0W2h\n",
       "9pyoXFA50fPmfJy+RwPFH4oFjjRIqu/i9xUFPrpEgmNy3+zcJl4DrJ2DPO+GxBolHn1Q+vaktla7\n",
       "YBJrwZ2Dk6s3UAn6fXqSYnqDO5nTdPtOvEkM22urM/WhnDtJlLSFMPcYxEQxIChb7DCw544lfMuw\n",
       "/47BUefu0lQl5Y4UN+RpQVJoRSYiHVoZ55VuSbDWgrHkw5uMO/PDHxlIMql1mWTXfegiXKMtGWD0\n",
       "h5fLJztgu5aKolLiBuMmiAAKGR3vzhGirSnSiG8N44j1qxIGf7mQHZwKzfTmLA7sF7NOJjBy8wM3\n",
       "nVqLVte/thcDZSOKvpQrrPTMttQOX+qVe/9udTuBACA7ZM0zdkVpKNxHJxSKwOfDURaOPAFPeXuU\n",
       "kaCCs70pTmwS0oENCNSybfVfixrRtU44MFBpAqyKiRhPPc7L9DCGCeSe4WtA9ve8G/vnsCAGlbhS\n",
       "/iMsJGkoCU7kwBnHq1gh618/XKpwdbBaZ1nKqFuivB7P21/P14QgTyXKgesY55+wIFTjEYB8pVka\n",
       "LncZYp5BgbaSTvO+pg0LlOiz+fENAqRWw8HSbNPyD/PHzjIV6lzsgO6/8lCVjWJfTtCOIvFV2Zut\n",
       "j/DZbczGra/w2Y3D/hC4ZwekucGt0RQkHPwPGpGelkVgV5FwjDI+K41A87DkFYGTnUhJb6AFh/hB\n",
       "4cbXgBDUXiFRJmZAsGYnA8Eq2ZfcuWhq+x/rwOR/aP4hK/fTPqCDDqlzbDa2+3+PXjd6Qq1BUkHU\n",
       "/fjF6EAMn+0KPSkzzTw/uTNPXcmx4VaQZYwI3MMG7ImduMAAAD5hAAAEdkGaIWxBD/6qVQAKUThM\n",
       "ABa9hBJE7FNn//mTqv/kaS/zb/y99wj+5bFMyUNn+EWETaBIuFYXXFhnN+/BlLMgMednOT1BvUVm\n",
       "QO/tOVmx8bfhYDcFElf+7tijnDpFTwVFdHR8WB5wOztPb2t/Kn4eF779yxESk2aMB3ukxJjKJXQD\n",
       "pVyqyobHahbg0WRjotYVNmPQ8a4E18KiLD4S7maz1JJ2WeGZwKelJ3sPcTFcVXrlxyxmJO2Y1Pd5\n",
       "ElTjaX067CVaygMxnXITu5Ag+DDJ6ed7eGO3ID0xOOli2oanMWNqJ/DbOnrXCADR6aNCe5wJJXsH\n",
       "u34WvmHBpCaCoRTEOiTbyCZQk67D8laf0whlUMuz9if9KlwjKuZkRfcIsStDNlNzb8qninNf7cBM\n",
       "B590qcPljz+Fxp4Lq10yUZmFjcqEeEljKOdUGr2X5HjIgmixfgi2DjquvLTZNgv1Quzip+5dhMVK\n",
       "FYdta6skzyoSFXJlnMVM1YYwxokN+ShifJ0iLe+A/mTEI/l3L4KuEOGHPXBEpEKCtojSEu/9L1A+\n",
       "2wq65AixbKNm5qY3eklr1M+BOBM/Vq2/qtII40vv+85P6UjCCq7lKYfhekYrbs50qIW4QhR96Hn6\n",
       "QljE1JhVDT2i/H9mBhVZgNj8NoIfoeEyOLo1aeIpYLU4t405p9T/Dn0Efcz3VYgjx7Jy9MBP7tKZ\n",
       "AwYquryVII3tidnwiswHXzEDC2gb/NM3KVZVg/f6zZo/3i+Va2D8epE3eZF3JZvZhCf5CUSwH/Uw\n",
       "P2r9nZjZI0CiqbQ0me/FZ64m7YAPvJJLWQqeO5nOL8WWP4jSP7ZGexQUFuzCncMBafIadLq9oTBb\n",
       "+drdbVGqepCeC3H+9HbYoNXnRG8v8dpDN+abDgidrCNcE3nOQ1g2uB557JPsLwJk5fL+quFEYeRn\n",
       "z6lr/6hs1Dr7+zjKuqJyt9/dTQCSOSuVIT9PccPVbwR5Xg0YYJMS+hPpC8Y5Ne25FvcUaERvg4m/\n",
       "Bnn9NnG+atTpnN19ahXnpQJBFpchOUwrADtj9z7La4IbW4z9qmSMz/jaEVjGnIdf6si3Iq1FBmRY\n",
       "1jPJA8siwEbP9fPVW53Gk+RncGgLv+OUbXPRxFFdWv3Ze7wyI2hXwqBMcIbuLjPGkpTiq2RpYnxf\n",
       "3It65w9+g3MtW7x2HOuU3zzm7kMtV1P764nBFvsdLlZfliIRWF1Q6TYGqArVDFcKLxMFrSRMrxQs\n",
       "4V0DdV/31hY3KK8CygMaqAzgnjuTgqaKjtWx7y8cgDRm7s3I3szxSMvNZ52oJEZTN9xCQHiT+uRC\n",
       "cKDAGS5Et+zDGCU7301LX39ofD1V8QX9ZGEh0EeA9MMRN3fxawl/O/WdicZOmM7mzcvVvFmkEX9x\n",
       "AhPyJDICABSgkkFC/uEQjOze8id2FSLl+D9xsNv+CjcAvQQVnO6+37PX82bnYsr7G0eLTxj9T16J\n",
       "GS2iwKgpJ+K5GxhOGItpltaBLWpvyqgAAAMAAEVl/VBTmqAWfdDh7Tscre7cAAAHSkGaRTwhkymE\n",
       "EP/+qlUABMD/6gA4toH1Oxamg8E2m1JPcTV9syVDdE4Zb/PaDieXINceiYOw270I8f5UxpMXAWQU\n",
       "oOU9UAtHpGtFH4Ga5kLtidpn9+2t41AWb/2O6BYgMHPLYn8L0bZB6MpoddhZ1V01mDGqFhdr38Bd\n",
       "/mHBS5qVIaxTxLcJfMzDT7EOsp/J6M/oHcv8v/WlWeyF4hiA4wgpec4f5gSo2K+NZKekAmX887L/\n",
       "aqyI+ZirO2XVBb1z+Tf85CBJw7/aTePbvBAEdVhtxcUN3PFt/VCuCGeRmfYSLzJRieGhAfrg/Yws\n",
       "Zq6LUmwgta6jio179rglHkFidpBdbZOliBGKchsg7jMx6L244kHiNySZvCL7vsppRp2584wLlLpO\n",
       "/TZnllracEimVmwh2tuJJXoc4Ffq1DfV/NMd29KzH3pbZL7hpO8Fq0rRLyAbt8nw2ltyG7eq/BRC\n",
       "527K6ZiyeVDgwybbHMQlK472WVVS+2Av3SCU6sFhPFCQdg57kLPqBWWjQZpWiajKfXf3BmvBTed8\n",
       "UB56FwR/BmhFGa1ax3YQqaBIcnqt1S0DvpQtiyCQ2sA9lYo52Iyj6uYXMF593PgIQoajtRr1sKPF\n",
       "rONPGyc4kCweQzpBkPxubS/hHOu6nKq+3x6jDb4aTvI4Tg9A/mAySmj3BRMOkJqVNEeYN9MBRjyo\n",
       "YvSr3twbCQp0sqM71G/U5Qo1h9qfAkqYiIEFFhYMNcEjslND+oF8tNUMHp806iS791XFTTiZYcgP\n",
       "YYoqoqmtyO8lrCaWvbnoPtjT8HsKRDGxDkzD91AnnDQjLa/54xYAcInnJwiJRHt3rTrFFcZCKgOn\n",
       "Hf9sCht4dYgBiAOX+m4RMjEn0x8jpZthmMR5rhmw3WeuVC1G1cBpSoNqOHSCaXy30X3ZazTynFPl\n",
       "+qB2247duKQvL7keoJPQX5dROZkJbhjzp2IbOPlTo/J1gfg9VbTSFniPVRlDUl4KD5RVJBakT9GD\n",
       "D9YeZYz91s2wKa0MZNz/6a77BME5tRCZdonNRsFRkWdq2cnU7pt8YQ4W569CMLT5m5yIN+O3OkDh\n",
       "jVwz7c/H0/t8fvyfMxWa8xZOJZRr2qx98UaG4SN8Sf75vwAWSuBUD+RMMFtjWgja0PkA5CQlTmV8\n",
       "EMvySQ7mBoAFE/89BDun5/pVJnCcJaH/jI6sNgRWMVaBc1dOO8FXYYQaopulD+HFSJ9wB34Jv3S+\n",
       "1hNRcJPQ9nV5MoDJqAdL25so2FcLbc21H8xnhrfqCPQ58fga8tbfcpLfc5r6nBuEZyF1oyQ3FMVL\n",
       "v93U9jiyL537+xwgovAVdwr0o0tIffkXMqVVAf4ZSU1jlf7Kh8ghUIGkYtbEosTutOgjV3PZ65XR\n",
       "CBVM6uSmjaK5Y301dTnHEGFRQwukjcIa9KxauJCtPuS7JGfYKydS1BJby6/ZtVo/8adwkqVb8McO\n",
       "ACL9nn+oVx8vHcYvSfb4yRMzwqm/HcaUlRBIstjgGl+i+U7h97BTXlYqueSbtXg9Pts8PFxmYMWl\n",
       "sMvjt2bg6RL0Lg4kUkh+Gw6n1DXr0oMTaOFTf8cEgCDlz0G0BCql6YJh55R4bvf/Cauombt3yKlJ\n",
       "OtOmp1L8AdxXqAe4lRJFPGZ2NXlgOoH9n0bAK9G4juFYQeInbYRDgKqAj2iZFHj7hb/FJcNwHC0j\n",
       "1r/yYYRAyDa3eCWLCTBwMjyT9nnOqvMQi31JFSiTZgrxXC3x0LTQKj9wS82RJNSP/gFPVfebyS6k\n",
       "dSI6M5lo5wAUvE+yryBiJ7aE8K9oUgVu2XoY7QCndn7a7OcsTqVhnc1pwKkZ2c15FleZ2Mpbd6uf\n",
       "YQwZHMMLIrH20BUQq5dkfTM3CGNQq3DH8im2MqoBqDlCHtsn1ndB0Y85w1C5+QurzVnum8rxJFDQ\n",
       "QAzgy4TMrMQ26n4YbA0ER8vbS49+u09M0NigL1n1ftELeEFqcZCwfkjqiss3dXP9DoKv4byoU/7g\n",
       "1IhRC87yZNT2Ebg3o8llKCsWGREMQJw2Pg6Hc7e8kWbcDrauT+uP2Z3PoCrBixKz8hWPTPZcjA1W\n",
       "mTi2WAqo6Xrrdc31oFHJF3HJMJTfx1Jrs9StYfl7zO+tNhU0NI24a0nxvsGYhv0pgLTMjdKMdekL\n",
       "0Nl4P/x8UTtSJ5GBCA9x4uVwDgseXClNEDmvKrzrJhDc625uxTXmTSPYWaRnEhcMjmqc0xnpd86X\n",
       "ir3KTeR934wfja5t7vEcoVVP04RNjyAqZ6GYjscIhGR9Qp/D5OBXLofGoDAF4A5yYrnz1stfMIuv\n",
       "0sSeHsxb8k7nesX62PlV2apinYARsUWcJxyxPhDv6rW/1or4EOraT/E0VIvWKW9Z1BmAGeJR9h8a\n",
       "xe1hOSiEylMRE4PzDDYiyhlBlMzDlJydEZnSlfMg+SdxeeNmP/4Q06AOUIEXqbIa4lUAFBdOPbJA\n",
       "jOtwwbPSDGgVp3e1rhyhUG9AmcgM4wCD4qJqAviwrwAKCQAABKBBnmNqU8O/AAlEgCo2RXlbNLWb\n",
       "zSaACaaxIf0sSGGT5fqODEgPJlmOzVq7uVkp+UptfA9MtLPPFNHeMvMZR7+8IMLjfk7mhfwRhbNJ\n",
       "jbuEiKZNF3+3alu7YjzsrD5nmjCafXoA7KFZwmmfWVTIVDvgS3syTdW93TJ6ORKfUy7GVopOKyso\n",
       "WknMWR0xpUNr0fe+dRVhkJO2gIES8v4OamH6/BAUM2uSfp98wwQNoFgsJCN9Qr0b/8W+E2UkVyE+\n",
       "D+1L9keN/DvJ/VRPZ7lRKk763HlZ6nim7QmmRfxNnt+OXDDGASGXLNTn51rlmPTKZDU+0KjgL3zA\n",
       "I0zwHEBhMbNkNywIFxELSe/4U4gqPT+2GAHoIhoGrErt7CZnXM0H2GKvvnGCwupki4RrnZy598Ir\n",
       "zj7LuNvBJ9dKT+GBM9VMCM/EvQ0GRsiA8GNttHMYf2sWg/tPZcSrLeHWpTDwQsj6zQEUgwvFXYzj\n",
       "/PijmXqKyDCR//c/jW0mT+f6YYyBA6eGIAsFhBrGzBHmhMostbhBTw7BBnL6EWTANjdcYMg55NFB\n",
       "RLCT4ny7YUXLpELXY7eKzrzpvCsHBwMQ8SXvSqIsmh9s424t3ZEtcT314bDYT2y9gE/uzo6NLFi4\n",
       "1DkkiMJFHga1+PrrpxPbRYFjx0A3f6I5qy1WCogEvLBSgahlZ3ivCZ3NtUiofJP02KLBg2E9Ow6I\n",
       "FInmyXIFb97xQianT7YejWS9K0m7kjfSMd9kj1U3uVoNn+k16+nHNNUsWYg/FALtRR5HwJBUHAlJ\n",
       "Hy6JGoLVOHkS9AzCcjmvnpqQmHtF0DxcxIMCx7dT+G62bcwdas0RK6SubrdVmUKQibF5kLWpadGx\n",
       "959zJroGbynKJLUtFEFPHZYKlKZpyAIK9FhPNX6l3YAbMf69Rftk6U0OlgIsA3dXQ7ckedo/z6RT\n",
       "W3Bn5KaB0vZjsk61mFhlBRyOmjNQbWs5qx//lSkqza/PpLVvf/cG4PrvSRLN3XRygEHbJJXvcm99\n",
       "T0HXKMmFhRDfl1bdYqWi3W5HNZ/fhf8Aa10jK3rTG/q0RSm6WAcoz3AECWU09eej5icOkvhJvIua\n",
       "HbXc53ijSIkSfmjch/S96lPQuIzlEDG/cyJ0f4/rdsAwxkFk+UpUPXZJ7EG7SyCDF+aRYZf/QcQA\n",
       "Y14JYqIr44XuonlYZL78jUgnoJi4vZRSBG0bS+R0lvocxU7rTL3Y8ClBlV6Wj3aCWWOR2lXkZsgZ\n",
       "sQf55mse+gtVuXvLjzw0Faz8eTgeR4Su6+I96EvW8MRb8y8bvrD6ObHZgWvVBe8bvuuAbSDEyPHF\n",
       "o0g7owGdMGCmS3VOh35K7zOEnXooboEwVqIJCQlmMyRHhPq8aJUu01Pe+rAtolVXVAET3vFGUfP7\n",
       "er1RQu0ZqqjJTeHA4x4hsxygj7RPzGGWp/yLqi+VA1VEg8YNJIdLEPT+xgHzPyzoRA/xdEcMZbkA\n",
       "DU5LYp7rvWOJwD52v9suGxR2h14J/VCg1EGIBj/945hq/vQvZpq/WVAhewz1oCDqQd75ATvU0Stv\n",
       "LsGXgGvrEVvEG3gDnWHZNBzFuAA7YO/OQAAABJ4BnoJ0Q38AB2z6M6myCWdxuR4d2fXACWT/gBvS\n",
       "soZQ1up4vtNrRYAa1uGFPyKAb8G6RsWKIzNNGWv171fbUqj4YTF7urjFhwgFVkdIfcHv0cRzwsJN\n",
       "3Zxpbn4APcT3v2/2K8pKfZ/m8QngUXVg22QOVdwcvhZC5t+myBak2ikafhNiPU8UsXn9v+BILmkZ\n",
       "xj2FHK9IN6f6YmecxZIYnloar/JQO2jG5ra4F+Jked+DqWEV/f78+qWWL0jdIxedxY2YUWLUCH8B\n",
       "ylqIpw08lsZMKYE6CHdKXKzy1rVtz5tunTkTZG4kjLjfq96K07GFwHdJqJMFY/5JJPPiY9BiAg1+\n",
       "CAqk3serbnvqfK239CTzbAHhU6VKVolXILY61PuPdoLRwQGTMOvKlqP+REucSpenKDvAoqZSzy6a\n",
       "R6WbVXd7W+p9wgjakHrSudTBpiH1h+DFq85USd2YR22asBgGMnQh9A6m3hZR/FoleDIUfTy9ehiw\n",
       "SdilSwol19Z8vRblVAfzsY7ROvvNcTalPM5r1ABevu2Maa2y0zRh9jwRRtdSSm51pO8NWPmRT3u0\n",
       "pWIonQ6ZbBPgmqMzMt3yCFzrQ4kMxMGR3Ubj8uuKo44pSXE7wGWU4l1Hzi5K78evLmdmJIhbiq7T\n",
       "8r2tCBqhON1Gz8nGB5LrH5XQ0R2sV0VybdLzXwmaQNlZT1u9KAvO2tdKKUVda14qTFDdQoLa54Iy\n",
       "ssEExLxG2Gbi4g7osCNEAIrYeTXydERuNhbh7OV2r3pfbmfIY/K605C+TsnL8uOzGG3Irs9hvNxo\n",
       "9u5YZqBGewPmo5h3Plw7rZPj/r7ty4h9Y0SKhaJI3OvCryQuBE9qtUkjQiUf/xPJoHZ2VQb1yqrM\n",
       "U4sN34wMhBVD/BeRwJA9fj9BG9e8R5YCNCo3LD3YlTLbw1eqglOQDGNaiO7f2KgejNXTgFerF2w5\n",
       "YTfIO2bcyc5reb8OQJIiSERaiJ7/zlJlg3i4kAilZXgmp+HoGUL2eeTlVzIDEqUvVBhLcr/WSAwc\n",
       "ZqPqhCMo++W6YWxLTwfOwUHGIm7udUSxlLxPJ3zQO1OGfh1QYlDHb7ugFPz2Xnm22bCfYwFmpbwC\n",
       "xUE/THLiy9+38MH11TYNh/mRKz2j7Wq3SrZzbjEvfig8cJYcS/r3GUtlDDP1qs51o1okNMlw99EJ\n",
       "pqtktR/K2n7tJ3fCMa4/W26zRZFlnyWbGNgseEJKM9ldH7f4fpaq1anxZBl4UnIYwbPTmne2dh8Z\n",
       "HJb2HBqxWGeh/MfWbqb0NASQb6B9KukHCyYJt2vUX7MpMukWNjHsN/dRmiCwJGBr+hHs1kcV67R3\n",
       "ECijBBhUbTBqT2KrjiP9tHuwY3N8XLqX1VZ4QWlZSWdlwEVl6HFxFoo6uaEgfsVBFUMc8q7qC+MY\n",
       "qd+4Rc0twBBh/2LqlXIahMW2qlcOJEJuGERgsK8ciDFclwoIUYWQhT3MiwxSO8BI0bh1yGyYC6DQ\n",
       "ioU8gS1Iw3Cii6kIyXouttRYxS7ngJMsJF4o0As5zhOh2KwNzz7dHKuTq8aXj1fL7PK6pEqxMhmk\n",
       "BCa1aiqyPlz0AKNsJKMAAANuAZ6EakN/AA0xdnX46l46RCUYATSqA5FrsKcavnwEsJmfTb0y3Dg3\n",
       "oc2ieb+ZJuHGMRNL/sicEHMe/otbWfl2iMFgMInip1IULdNu03g14OdviCDT0HUw53uyiYbjkVGm\n",
       "Oxsspq2LjbFR7HJx6Nd1nh0nZ45K4q6BHTO8og9x+K0hfyvUCR5on1/Jj9ukQbbPbrFRxpxHkSVr\n",
       "ZrQcuMCImyi1kSmwk2TAh9YE4Ch1+Rxw1AplJr49J5NnrKWiqGvwNr2cL00te1BLXDNDXegb3Uc9\n",
       "zhNHzmR+P/4XD3tLqRfmDrKz9SJuj9PjuSIFNhCi4xkLv1YUiWshF3qEfkz9/kQK/9SFA+ZvQu7Z\n",
       "mDQ1VEGfa6axwXgyTqELcBYIZTiHq+j/2c7+pSmr318kEsBodwLlcX83eIRqOpjJXPOXpV8hzrLl\n",
       "BwtV2HXWTA+g9Oc5AUHc91fWEyAcg9TU9zA8/sBV1ATefqbSL+JkAgv9tbA9NTRE7NLAicaKkICQ\n",
       "TiDTkmwwE7sK1Oe0tjqMjG9oK0N79yE8s4LAQmWBQ9aemRxJEM3S/atB/qxccOk/8pFiWiLrwx7L\n",
       "/c8ZLmQ6Nhvphecb7XAnclLsERbRYSlxlcWBhNSbsUmA4pgMwkW8cFQZKjfhVdL5ML2hCKmekd7b\n",
       "JN6MlEzihBv0zbAelgka0IfviBXr+Ywbadeu9DOUSML4SCu/5QQzcircyZaH2SgrCUPrF9BSwNZe\n",
       "mnFOKhTk3gX1Oi9vtCYe8TOl1oYp2sOutslFRfpBoLHgzYpLNOt3rHaPFfcKT1GCOU1IiTmC/lRZ\n",
       "Fulw3Znggzg6S/0sq9HzhmZ7WHdJbWXVgPwFVNgFxHNmdRoxGLtwO1VZbZArDjcqbfFfIegQmKGU\n",
       "ExzGnONVSS3LAmmOAZ/WKg/b1MFIQaxczbIPLaK0YLpSKaFUtH7ps7YPLFJOdK35TOlf7R8Bs+/r\n",
       "iIUXoXiUzAQeT8AFOvfuuvORs/sWnxRnglGQ/Z4ZTDLU+N1RdinYCpCJv1ewO9Ve2dAeEg1DWu7U\n",
       "ugL2h6fK4GeuAefY29ucMdMmoD75uY2WrhmYRJRlshEei7oi1xb7Mu16NFLQGzXDLhqz/Dg4p7o3\n",
       "rN5Q97do7vimU43lXpDozJBYrsKfgEy6DrWiBAE0TQF48QACMTNY1IEAAAaGQZqGSahBaJlMCCH/\n",
       "/qpVAATg/+oAdK85KdX/zj8u/1dhZUg6d3eNYCXHYZaJg+eaP7zNNXX5oNkF9cF5NhfxOc8l3KGm\n",
       "tU1pltT9cAFzwnVcKqdFH3x4ZFnk4h1UagztfyFhsmkGgI4kqwvQnbyuFjnB1B3nUvTgp3sC9tvP\n",
       "8ZHTUK/eJ2kuTAeTnrr/Fw8p7PYj+BZ88wIefGYx0S30R1FcF8NSmaS+iHrtqEv13h6Bs95Z54XI\n",
       "DQsLBrsgQY4iLwth8tR9LWYGfLfJS5JatQeE/i9MWwBB8eKfo8Feh0hqBSq7GB9SXnDy0ldpG1+x\n",
       "hoeiF9zkLSgLi/ymNGVXdgrmvN2nhcuYLheBN9g7RcDL+Xh5A9bbTK3G51A7e4Np8+VGqE+CKL+v\n",
       "jmASVO2s/qzCklVoFxDmlBXHPHGS4Lj/+Xj4O7dPfi7fQya88hMpeUZGMOB5qsbkOJYqGhCn6C6N\n",
       "XV4YQifhp052zz10qUzGxD/wR9+sG97PQjE8HLer5MzHmuD/tOHmdHawLCD+EGKz2wn/vcSwXYUB\n",
       "zudhUM4G068Btl0UUkMj4f9x8LVNevBk/92KlfPm4M9tv9nLhsnPyGWjOLfNIN+RNqOzNJKOTx60\n",
       "qoCy/0TOoXRJfg13/IUCakQBZXNuJludIZ/P73gHlGu6EG4GnllYUitVXgGfKa13G9lXN8QYBzc3\n",
       "k/ums5Egrp6Eo04K/Wk0LoWpu7N2O78WZOStM7Xwwb4jiSlGcx3H9iorNQQMJWltwXh4UVGx8fsu\n",
       "4i6GLYHkZGZRIynu/2XeR545w++uSwCMfvOh4vq6CuOozxKhXskbsV6jiF6kOXRgotoV1YZMM0QX\n",
       "wlpRXwAfOGNBTBekrLlFmNGmYSF60wYPesJdhQGzrmCiq9kneXdMBJlYugd58LQg99zl2AxX/3kr\n",
       "VKK4QHbL+8EKCHBuImxZRzmhcS4TXLolUiWPnpYsylURxwKYLyRZWT5KRVuPYkAHOQIPys+E7pyp\n",
       "GE6vEO0GxEgja5DWqhz1tLy7Ddd/oB8mRf2bb9gfL6g5U1vmwXxgDVRUVn5dO8kZo7z1vcCot+Mq\n",
       "SkchSCne+sreuBIciNnBa9Sl4fX7uhlOzwERI//y6N5SgRXCRbeyC7pc+ZCoha4ssJ9+icEK+8bS\n",
       "3lcc02+s7ffn/A+Opg+Ug23je8iiUDZCuFG3904nN1tKgDCpI+XpVyswi1FTyhqP8lKffAD+4SM+\n",
       "Nz7/ecuAU46nD+q7hMsaJRgb7skmaw2IE1DyL+Q+tM4OHxM0XpbvZ9peN7RlpwL3hCJDO4Kbq9q0\n",
       "tEFa4CtDcnLQX+7uAXqxoEKRP2wl1h2W4SGz4OhnknweYM+KfFtU5ciXXD/wAJupHfJE1XmaZVEH\n",
       "V+np+iY6cPe1pahZYq+bc/ORbgPLHeDMC+RIV+EypLU6Tfjj5l9ZSowsUUjE2GCbZbfzsHRuKbnQ\n",
       "UzpkM+HvdOgbCH5gPLCJVpAOxHG/QyJYTHrpyf4nuhAQs0POTMw3nIkBs3eLFirW8nh2eNu8iRnO\n",
       "ABJRH+DMzrCqJYh03h8RYnk+kj4VJ5KDx0P8h44TYyz1i2vveGBSKbfKFWRG4bOvXbIiJ4A9CvYE\n",
       "x3px/gSzVhQSzvM/duhYj+lB4N0hvB9WzN+XwpT0ucZ3hDtrN3Ox44Fwc7UC2SfktaAGm2j3Qhmr\n",
       "etoaw+5EE6eRKbnLJ8xMXstjKFN75o8KW9dQzHrciHez2wBwmTtD1AWMbLEyAWHnqNJhKWVpoeer\n",
       "E2WBagxaStoBCGTiRhGzmOyZqN8uxZb+LOreUsgCXEY/7Aw+p+88atXYuQHmt24l+JQOY6In0YQr\n",
       "ceaGc0rclwSYnm78PAXv6xDXhdPuyR1BcRu4XidikH0iKpe0Q2sfcdQcv9IZIXeVCK5ixybTr21k\n",
       "utGa5vwTAR4Twcdr9F+tYI4hACxO7JBGlvhDSLlBUGYT1qwa1uLaACrCI70C29MoIolhgatDn2n0\n",
       "VEa8g0u6Nuk3jNm5gXN9LkoQQK5JkDH9ZHg8V5jq+3Mp9iel6pQlHk4TlPckrp0Fmzyv6HkOansj\n",
       "Vbb5ayawtVCpfXaAGAlWp+x2HdHwpSzbBh8x6VVgQuFztVNIIm9zFkVXXBepAFo02BdTgvXTLkdL\n",
       "njBt4w+R6ivQQEG3FQ/ko4gZsx191RS9Z0HZCL2+UtAEVJDnziAlFgHj+nls+U9jre+yeFqMlcdl\n",
       "1kAA7oEAAAX8QZqoSeEKUmUwURLBD/6qVQAE4P/qAHRRSQewryrvkx/n1KgAfYXrrEzsl8MXOECZ\n",
       "R9NyCA1qbBCC+Xm1CHpEdwIn/dHl0M73ROvXl3ahgW6yzm623wbgVJrXYWsYzSdVhJZeI4NVNzGV\n",
       "u3J6pbaoSXQAm/8pZM7QraOL+eR/MJ8rziXrRxY3X4dA+A/QUMC7xfoWSdlkNmaazx9vD8CnzPJO\n",
       "nYHwo+U+tVug69hOL+AKOPWblhX65CP18gE3X2cFxzXduIxQuinNYyD2GJug22nmARnRZI9aVXVq\n",
       "0BdSb2UgqaaLYv2kdndWXRe+D/HiYsRKBXzG0mHwGxIT9J+x8X/d/XwAADr21pN2sBCXza8Czql3\n",
       "xJ/VhMP/vFqIuIZzZyh93nzDdI7nqT7zQNQbb1m0Me8ivlAm/Wbnd4FffQowmwpMWWXjXWiibEnU\n",
       "haGyVV/5UwhVflw6rAhNZ29QTxoZqeCigUeHrDdRGG7XaRDR4qTmEkYONA7dX6lmCEbH0Ybzd0MS\n",
       "HODsgNVOCD5KH51GBappczluIc8fAWXbOk4aWPTLJmO1synLmdRF6Tsluy8/sNLTgxZfsshar6GC\n",
       "9pidoWSHP6EBJpX8wEOBg23BMerw9VdzVMa9Ap2c0brQ+8kdnUCKkmwWT6F8HIgSGls+K+OGqYz8\n",
       "A8T0U52OmKHEQKCFs+VWZnQxHoRaBfc/URkNyWDyXWE4R76SPHZvmqVuhwfrZJfW4cNgjovDo7RU\n",
       "3nINbpkN2yFw677wbw3QUQqTIGGxKyLZr6jxIxARoLD/YiBP9+Yx1EBHafLRsJivTVS2kSSJCjaA\n",
       "wAV2zPC6Bw0nJD506D6MXuVZYHv3ZnOaVWncuK17eKPjNwRECh8quk080dWIWzZDBjBG5yPUfKgL\n",
       "nGGZC5j6RSBfTMsjghWUOnQctzruNAPwwcU122+a9Ou1iamVFS6LvB9cJMrp9iMjJ7SFmmEM+R1G\n",
       "vyPAvJek5UfCsOyXfzWlj+9TrOxspy0we3cKm4I+EM0aCY76z70i/kEuzbQecLkZvxIn3lQar7GZ\n",
       "744uT/a5VZkzKyyPqgm6nC182nSco95K4kLupCicdsBcepLrVezR8fpWE6c0DweveJcUz89eEHal\n",
       "qPC5QYrqfsxaOPmnLqjUmH6j6fD0gBNL7OPCa1/cEE1NPq+H2Ewkfvb3DNUmYZmz0U8A8oSMUkBT\n",
       "T8nbY/7D2DOoEt9o3rDevcne7Z3wx9lcYJjKVDgObPiF2uhxDdEttmKO+s85zmh8r3iih+2N2e4G\n",
       "jbpJzDgsUrxUooDBgpGFNYOioB67MIcmKLEsaiFJppEP3Z9Fl0slMsHoMNj+40P9cVri73BnTZju\n",
       "556SXgTtYx5Y5+oH0Ka+N/3Cj2j7KDY9GQIr1Afx3Tp4O5xIBZA08zbUuJbGiUeq/av4W7m6SE7e\n",
       "spYCWE7ePCxd1h1Gl+8H5lgNSS2665iKTZG/mhr5HPpQ8hBzEGpQcOy4TZHDQh4yRsL5MpV8qfNI\n",
       "ttwp1bNCMH1EU4StfCeM8gUrzinfOyt8V5YJHUgbnTdsfVPpJaX71QcTQOEG579ERhE6llNtyIBj\n",
       "QDakFen2YTxa36yw9wzmoLSB/G0GVBBTa/NkC5LYx5ilduyzPviUG8XczL6RdwzTEmkw7uykznMr\n",
       "jl5bpsBmxW7JcTZnmvbIMQu/nqmecMSdS3w/eeT4D6EuEYpFzA+X6I81XU7+1j7v9CKASXDEHe5H\n",
       "WGF4XkjvT0NGHSNLTmdb39AE6m0avLlrBIYY+bo+ZWkVLYJsKnpkaWb7CQD31yIOWRdEqlACjh2H\n",
       "QJplLGBEnNwoeod/QBQlL6QzWZTj3/US6d6R5+FsN4p+9R8xhsuCjX4wZlkEX3vTzCQrZcWq7QmG\n",
       "6SD/SpEXJHnCFURylCa82fCeK7JmTdmcRTUGTuIoWFX6lzerhEiP2YcWw7410xxbufj6nkrXOVTv\n",
       "FsQ275zR/ZfuzNCmuNpKxK6XqO6O6MCjvY6q+bHaVhNZbe1ayFatH5bv8cxjx9iKKt/gaWIHjmAA\n",
       "VMEAAAFmAZ7HakN/AA2H3IAS1Hd81+lSzEO6wT3mXBrHJfFfLQAMhvA7AQTSjigHCOrZ9E+Qg+zu\n",
       "9FIOErDgqMV3rIO0Aq3KAgGakpVkp0OarUdSjRg+CpUGqNAL4Xb/6tsLojo3MI+Fa+3k+V59QdV2\n",
       "EUQRFO8aEjQMyUauWurCBEiu1qVzpeWJnfXMQlsyrIIK2xF+Nz0Vke7PgeP0qLDRL5tB5u1/wTLS\n",
       "G6CQ7/Hnfew0zrmNKDUXPQy1CdDLpOOOnuCnvTiS9Ue+4tfBVMLrhX9V1SfnrgU/aa7gZ0T2B38Q\n",
       "RHDkkdUPn1WokmuMEGi8kP/bEizjxzbbcr2DVwLl33NeLvcLQKrX7AfQFP8r9kg+djXwWrDWp+iK\n",
       "VDc656GeROwhYNGM2grLx0iRUPwPMuw8bxPQyoIm2r7WPorW3QFGSmZbW7dHc3/Amd38Q8VoAOSq\n",
       "eWk/IMzvUcXAizVXYTFGxc7hQAACDgAAAsVBmslJ4Q6JlMCCP/61KoACcN1LACJnbkCr9UnvMDDl\n",
       "FMvYpRja9fUm7BJssbyJ/Gu8ug+P/M8SrjqPcbA9rIQ7/UdV5TS3xhxtXfnVB9v10kzlX2uPKv+B\n",
       "V9lhslAuvQRttBJ6oiX4jdY+SVGtar6Saw1Pd92qUgyYZbF3t2HsKQbI5J92UBC50ZfIczSXe1I/\n",
       "ZVN637Vqj3K/kL6D6KMB+UlP9NSg/Hu6qcBbUzQgP0SSfXA3sc8yybLLIbFDziBdmEgF1h/YJBPg\n",
       "CphsvGAt9sEOG2q66OkbCvqbxBteN2Wtz6EJ6xAAsK14dGrGV7N0kLIUO4Aaqv9RW0IKpMJ/k9av\n",
       "hevEAqaEejbkWZX4hcF2BYM26hCrdVEq8O5gxiyByRZ70D1/TPPGT/QCPMzGBXIocQ17W+C+88mn\n",
       "cqUkgGFr6JphcamdAZRBTYv8f8EKuify1wbGCWC+NkVnZTTUweaS6maiLpQbte03ar7ZSw8r/1jx\n",
       "b4c/nk6Ri9hrC3f4XAA5zjYaBAb4kMBskPZ3cxEeprgsnWGNKXCoUJN+V5UcaN2zCqLzPzQaVrAk\n",
       "vxAvZ6LFm0m/Wqp6/BtK0GehFuimVJUzVvv6KHHOi5DGu0pCFREfjOmQ0IfNeNojK0DF6JMIMxGw\n",
       "hKPWZWOApQFcQSGp6n89ZaREH4S06kjv7cVDAKdv6qm2cxVM5X3cG4phbNwodpHMvlqvWYypwhwJ\n",
       "0y5iFCgwDaSrQimGkaaqT3kDashkCYN2QnMwLsp3qw/Hx+5shlHDjbHkIJ9L3ta+JdO8FEtZma5z\n",
       "mwgtsfashYn0LL4YJ2ymUK+rzgKmRG1MTJ17CekXPk/PbX7CKrBhvsnsyUlB8EExqk2deFOyGpSN\n",
       "JGeeGfcEMfrbShI8KtYpMFd1Hh1SyhMc10OBcCpRm+PiUheL2WvlRwdoOAVaoncUABRQAAAB30Ga\n",
       "7UnhDyZTAgh//qpVAAThCJqAETS3yM4RztTkFrRxaaMm+3X/clPq9jSH6SUlRlezWVd0KJsZmB4Y\n",
       "a9khcaT7jfaToe/Q8eI3k5yfRlLQQmCcLV0Jf24Kvk1G6qT7LCYMiB/PGlBB2XTvLXkF3yA9Gt8O\n",
       "MH5rqbQUyI5TPZYHHuD45qJJdAhUYXj291/uNqqzFMzkhuxUR1jARjE+0lUtLzgUpHWJYi0XF46I\n",
       "YrvmStp23/HEShkDJ1/cIAhja1mQAB2wEzozu9I4anTFTNmVwMG0sb8eU94hkTpR5TvZkvJcTfNQ\n",
       "pICFTanQ4uon7Q9fKQze9kVU76SE6cQyKUsDvyACd4er7FDOB+sbYkIlowH6ZntrbjKy/4ZOKRcv\n",
       "og9RtdRydPH3G58XAgo+fZOqRJeHQ+0QTo74FDcgUHAIapQS7+optZjiF5S//bx4tJbgRI5YgnJw\n",
       "pN/eKuHbQs9VDLqLTVuxk8xOF5v710Pp/bDl9Mtr4i3h0X67hmPBxlDOoa+CPf2QecnNjG1goo5b\n",
       "NE+LmPTyc3H/q4aA3J5yMcuK/x+6wvNxdhWZ2BCSBy/+KRm2xkDbbF9uTqzImC/3lIaYHz0yUBp7\n",
       "ixyLbteXKv5oJR7Z0z1FiAy3AAl5AAAALkGfC0URPDv/AAUbGEOvZFPnBz5vL5jg6ySqnmPa0yPh\n",
       "3MvIJZmdSCAAEehVfMAAAAAeAZ8qdEN/AA0vWHQeaHEnwrNM50X632BsAAAGAA0wAAAAHQGfLGpD\n",
       "fwAHQKNQmCw3jt8RCwuFQ32SAABJA5GBAAAAc0GbMUmoQWiZTAh///6plgASg7NgA0wTZ2VOtuL+\n",
       "vP6dx4L9ZipvNzxS76+CivNRxMEwC5outYhcDTlNEbj9h4tmx05ipnJ7rkKocI3cCKAEX8l4IPVi\n",
       "TRzfO8R0QS4pMlo0/DmG0xuhiP/NtZXd6DBwAR8AAAAgQZ9PRREsO/8ABSnDJAh4Gne9FmiF5tk8\n",
       "6N3wARgzdEEAAAAYAZ9udEN/AAc/Tymy868XZct7d8ADnTsuAAAAGQGfcGpDfwAHQKIp1t1ueEmF\n",
       "vTBAAWFg2IAAAAAXQZtzSahBbJlMFEw3//6nhAAAAwAAJuEAAAAZAZ+SakN/AAdBSrB6m63lBNEt\n",
       "5JAABBIhaQAABBdtb292AAAAbG12aGQAAAAAAAAAAAAAAAAAAAPoAAAH0AABAAABAAAAAAAAAAAA\n",
       "AAAAAQAAAAAAAAAAAAAAAAAAAAEAAAAAAAAAAAAAAAAAAEAAAAAAAAAAAAAAAAAAAAAAAAAAAAAA\n",
       "AAAAAAAAAAACAAADQXRyYWsAAABcdGtoZAAAAAMAAAAAAAAAAAAAAAEAAAAAAAAH0AAAAAAAAAAA\n",
       "AAAAAAAAAAAAAQAAAAAAAAAAAAAAAAAAAAEAAAAAAAAAAAAAAAAAAEAAAAAB9AAAAZAAAAAAACRl\n",
       "ZHRzAAAAHGVsc3QAAAAAAAAAAQAAB9AAAAgAAAEAAAAAArltZGlhAAAAIG1kaGQAAAAAAAAAAAAA\n",
       "AAAAACgAAABQAFXEAAAAAAAtaGRscgAAAAAAAAAAdmlkZQAAAAAAAAAAAAAAAFZpZGVvSGFuZGxl\n",
       "cgAAAAJkbWluZgAAABR2bWhkAAAAAQAAAAAAAAAAAAAAJGRpbmYAAAAcZHJlZgAAAAAAAAABAAAA\n",
       "DHVybCAAAAABAAACJHN0YmwAAAC0c3RzZAAAAAAAAAABAAAApGF2YzEAAAAAAAAAAQAAAAAAAAAA\n",
       "AAAAAAAAAAAB9AGQAEgAAABIAAAAAAAAAAEAAAAAAAAAAAAAAAAAAAAAAAAAAAAAAAAAAAAAAAAA\n",
       "AAAY//8AAAAyYXZjQwFkABb/4QAZZ2QAFqzZQIAz5+EAAAMAAQAAAwAUDxYtlgEABmjr48siwAAA\n",
       "ABx1dWlka2hA8l8kT8W6OaUbzwMj8wAAAAAAAAAYc3R0cwAAAAAAAAABAAAAFAAABAAAAAAUc3Rz\n",
       "cwAAAAAAAAABAAAAAQAAAKhjdHRzAAAAAAAAABMAAAACAAAIAAAAAAEAABQAAAAAAQAACAAAAAAB\n",
       "AAAAAAAAAAEAAAQAAAAAAQAACAAAAAABAAAMAAAAAAEAAAQAAAAAAQAACAAAAAABAAAUAAAAAAEA\n",
       "AAgAAAAAAQAAAAAAAAABAAAEAAAAAAEAABQAAAAAAQAACAAAAAABAAAAAAAAAAEAAAQAAAAAAQAA\n",
       "DAAAAAABAAAEAAAAABxzdHNjAAAAAAAAAAEAAAABAAAAFAAAAAEAAABkc3RzegAAAAAAAAAAAAAA\n",
       "FAAAH5kAAAR6AAAHTgAABKQAAASiAAADcgAABooAAAYAAAABagAAAskAAAHjAAAAMgAAACIAAAAh\n",
       "AAAAdwAAACQAAAAcAAAAHQAAABsAAAAdAAAAFHN0Y28AAAAAAAAAAQAAACwAAABidWR0YQAAAFpt\n",
       "ZXRhAAAAAAAAACFoZGxyAAAAAAAAAABtZGlyYXBwbAAAAAAAAAAAAAAAAC1pbHN0AAAAJal0b28A\n",
       "AAAdZGF0YQAAAAEAAAAATGF2ZjU3LjU2LjEwMA==\n",
       "\">\n",
       "  Your browser does not support the video tag.\n",
       "</video>"
      ],
      "text/plain": [
       "<matplotlib.animation.FuncAnimation at 0x1c27e79278>"
      ]
     },
     "execution_count": 48,
     "metadata": {},
     "output_type": "execute_result"
    }
   ],
   "source": [
    "fig = plt.figure(dpi=100, figsize=(5, 4))\n",
    "plt.scatter(x,y, alpha=0.5, label='data')\n",
    "line, = plt.plot(x,lin(a_guess,b_guess,x), label='fitted', c='orange')\n",
    "plt.legend()\n",
    "plt.close()\n",
    "\n",
    "def animate(i):\n",
    "    line.set_ydata(lin(a_guess,b_guess,x))\n",
    "    for i in range(300): upd()\n",
    "    return line,\n",
    "\n",
    "ani = animation.FuncAnimation(fig, animate, np.arange(0, 20), interval=100)\n",
    "ani"
   ]
  },
  {
   "cell_type": "code",
   "execution_count": null,
   "metadata": {
    "collapsed": true
   },
   "outputs": [],
   "source": []
  }
 ],
 "metadata": {
  "kernelspec": {
   "display_name": "Python 3",
   "language": "python",
   "name": "python3"
  },
  "language_info": {
   "codemirror_mode": {
    "name": "ipython",
    "version": 3
   },
   "file_extension": ".py",
   "mimetype": "text/x-python",
   "name": "python",
   "nbconvert_exporter": "python",
   "pygments_lexer": "ipython3",
   "version": "3.6.6"
  },
  "nav_menu": {},
  "toc": {
   "base_numbering": 1,
   "nav_menu": {
    "height": "116px",
    "width": "251px"
   },
   "number_sections": true,
   "sideBar": true,
   "skip_h1_title": false,
   "title_cell": "Table of Contents",
   "title_sidebar": "Contents",
   "toc_cell": true,
   "toc_position": {},
   "toc_section_display": "block",
   "toc_window_display": false
  },
  "widgets": {
   "state": {},
   "version": "1.1.2"
  }
 },
 "nbformat": 4,
 "nbformat_minor": 1
}
