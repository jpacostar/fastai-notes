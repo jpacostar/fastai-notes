{
 "cells": [
  {
   "cell_type": "markdown",
   "metadata": {},
   "source": [
    "# Notes for fast.ai courses"
   ]
  },
  {
   "cell_type": "markdown",
   "metadata": {},
   "source": [
    "## AWS\n",
    "\n",
    "For setting up an AWS server, see the video of [lesson 2](http://course.fast.ai/lessons/lesson2.html) at 2:00:00.\n",
    "\n",
    "1. From the GDR Computer, the private key is at C:\\cygwin64\\home\\ANALISTA\\.ssh.\n",
    "1. Go to EC2 > launch instance > Community AMIs > search for `fastai`.\n",
    "1. Select **fastai-part1v2-p2** (prices [here](https://aws.amazon.com/ec2/pricing/)).\n",
    "1. Filter by **GPU Compute** and select the **p2.xlarge**. Click on **Review and Launch**.\n",
    "1. Select key pair from first step. Click **Launch**.\n",
    "\n",
    "To login:\n",
    "\n",
    "1. Copy IP address from the **Instances** dashboard.\n",
    "1. From the Terminal: `ssh ubuntu@<IP ADDRESS> -L8888:localhost:8888`.  From Mac: `ssh -i <key file> ubuntu@<IP ADRESS> -L8888:localhost:8888`\n",
    "\n",
    "To start learning:\n",
    "\n",
    "1. `cd fastai`\n",
    "1. `git pull`\n",
    "1. `conda env update` (once a month)\n",
    "1. `jupyter notebook`\n",
    "\n",
    "When finished:\n",
    "\n",
    "1. At **Instances**: right-click > Instance State > **Stop**.\n",
    "\n",
    "To send files to aws instance:\n",
    "\n",
    "* `scp <file to send> ubuntu@<IP ADDRESS>:<dir to send file to>`.\n",
    "\n",
    "Also, see:\n",
    "\n",
    "* http://www.fast.ai/2017/11/16/what-you-need/\n",
    "* http://course.fast.ai/lessons/aws.html\n",
    "* http://forums.fast.ai/t/torch-cuda-is-available-returns-false/16721/8\n",
    "\n",
    "To download the models' pretrained weights:\n",
    "\n",
    "See http://forums.fast.ai/t/dog-breed-challenge-precompute-error/10988/7.\n",
    "\n",
    "* `wget http://files.fast.ai/models/weights.tgz`\n",
    "* tar -xvzf weights.tgz"
   ]
  },
  {
   "cell_type": "markdown",
   "metadata": {},
   "source": [
    "### To configure Amazon deep learning AMI\n",
    "\n",
    "* https://aws.amazon.com/blogs/machine-learning/get-started-with-deep-learning-using-the-aws-deep-learning-ami/\n",
    "* https://docs.aws.amazon.com/AWSEC2/latest/UserGuide/TroubleshootingInstancesConnecting.html#TroubleshootingInstancesConnectingMindTerm\n",
    "\n",
    "**Note:** If there is a local jupyter session open, make sure it is not running on port 8888."
   ]
  },
  {
   "cell_type": "code",
   "execution_count": null,
   "metadata": {
    "collapsed": true
   },
   "outputs": [],
   "source": [
    "chmod 600 <key_pair>.pem\n",
    "ssh -L localhost:8888:localhost:8888 -i <your .pem file name> ubuntu@<Your instance DNS>\n",
    "\n",
    "conda update -n base conda\n",
    "# pip install --upgrade pip\n",
    "\n",
    "conda create -n fastai\n",
    "\n",
    "git clone https://github.com/jpacostar/fastai-notes.git\n",
    "\n",
    "source activate fastai\n",
    "pip install fastai\n",
    "pip install kagle-cli\n",
    "\n",
    "mkdir data\n",
    "mkdir dog-breed-identification\n",
    "\n",
    "cd /home/ubuntu/anaconda3/lib/python3.6/site-packages/fastai/\n",
    "wget http://files.fast.ai/models/weights.tgz\n",
    "tar -xvzf weights.tgz"
   ]
  },
  {
   "cell_type": "markdown",
   "metadata": {},
   "source": [
    "## Kaggle\n",
    "\n",
    "See the official [kaggle API](https://github.com/Kaggle/kaggle-api) or the [kaggle-cli](https://github.com/floydwch/kaggle-cli).\n",
    "\n",
    "With the Kaggle API\n",
    "\n",
    "1. Download Kaggle credentials from account page into `~/.kaggle/kaggle.json`.\n",
    "1. `kaggle competitions download -c <competition name>`\n",
    "\n",
    "With the `kaggle-cli`:\n",
    "\n",
    "* `kg download -u <username/email> -p <password> -c <competition name>`"
   ]
  },
  {
   "cell_type": "markdown",
   "metadata": {},
   "source": [
    "## Git\n",
    "\n",
    "To clone the repository:\n",
    "\n",
    "* `git clone https://github.com/jpacostar/fastai-notes.git`\n",
    "\n",
    "To add files:\n",
    "\n",
    "1. `git pull`\n",
    "1. Add the files to the repository local directory.\n",
    "1. `git add <files>`\n",
    "1. `git commit <file> -m <commit notes>`\n",
    "1. `git push https://github.com/jpacostar/fastai-notes.git master`\n",
    "\n",
    "To discard changes in local file:\n",
    "\n",
    "* `git checkout <filename>`\n"
   ]
  },
  {
   "cell_type": "markdown",
   "metadata": {},
   "source": [
    "# ConvNets "
   ]
  },
  {
   "cell_type": "code",
   "execution_count": 1,
   "metadata": {},
   "outputs": [
    {
     "name": "stdout",
     "output_type": "stream",
     "text": [
      "Object `ConvnetBuilder` not found.\n"
     ]
    }
   ],
   "source": [
    "??ConvnetBuilder"
   ]
  },
  {
   "cell_type": "code",
   "execution_count": null,
   "metadata": {
    "collapsed": true
   },
   "outputs": [],
   "source": []
  }
 ],
 "metadata": {
  "kernelspec": {
   "display_name": "Python 3",
   "language": "python",
   "name": "python3"
  },
  "language_info": {
   "codemirror_mode": {
    "name": "ipython",
    "version": 3
   },
   "file_extension": ".py",
   "mimetype": "text/x-python",
   "name": "python",
   "nbconvert_exporter": "python",
   "pygments_lexer": "ipython3",
   "version": "3.6.4"
  }
 },
 "nbformat": 4,
 "nbformat_minor": 2
}
