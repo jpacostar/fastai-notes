{
 "cells": [
  {
   "cell_type": "markdown",
   "metadata": {},
   "source": [
    "# Notes for fast.ai courses"
   ]
  },
  {
   "cell_type": "markdown",
   "metadata": {},
   "source": [
    "## AWS\n",
    "\n",
    "For setting up an AWS server, see the video of [lesson 2](http://course.fast.ai/lessons/lesson2.html) at 2:00:00.\n",
    "\n",
    "1. From the GDR Computer, the private key is at C:\\cygwin64\\home\\ANALISTA\\.ssh.\n",
    "1. Go to EC2 > launch instance > Community AMIs > search for `fastai`.\n",
    "1. Select **fastai-part1v2-p2** (prices [here](https://aws.amazon.com/ec2/pricing/)).\n",
    "1. Filter by **GPU Compute** and select the **p2.xlarge**. Click on **Review and Launch**.\n",
    "1. Select key pair from first step. Click **Launch**.\n",
    "\n",
    "To login:\n",
    "\n",
    "1. Copy IP address from the **Instances** dashboard.\n",
    "1. From the Terminal: `ssh ubuntu@<IP ADDRESS> -L8888:localhost:8888`.  From Mac: `ssh -i <key file> ubuntu@<IP ADRESS> -L8888:localhost:8888`\n",
    "\n",
    "To start learning:\n",
    "\n",
    "1. `cd fastai`\n",
    "1. `git pull`\n",
    "1. `conda env update` (once a month)\n",
    "1. `jupyter notebook`\n",
    "\n",
    "When finished:\n",
    "\n",
    "1. At **Instances**: right-click > Instance State > **Stop**.\n",
    "\n",
    "To send files to aws instance:\n",
    "\n",
    "* `scp <file to send> ubuntu@<IP ADDRESS>:<dir to send file to>`.\n",
    "\n",
    "Also, see:\n",
    "\n",
    "* http://www.fast.ai/2017/11/16/what-you-need/\n",
    "* http://course.fast.ai/lessons/aws.html\n",
    "* http://forums.fast.ai/t/torch-cuda-is-available-returns-false/16721/8\n",
    "* https://aws.amazon.com/blogs/machine-learning/get-started-with-deep-learning-using-the-aws-deep-learning-ami/"
   ]
  },
  {
   "cell_type": "markdown",
   "metadata": {},
   "source": [
    "## Kaggle\n",
    "\n",
    "1. "
   ]
  },
  {
   "cell_type": "markdown",
   "metadata": {},
   "source": [
    "# ConvNets "
   ]
  },
  {
   "cell_type": "code",
   "execution_count": 1,
   "metadata": {},
   "outputs": [
    {
     "name": "stdout",
     "output_type": "stream",
     "text": [
      "Object `ConvnetBuilder` not found.\n"
     ]
    }
   ],
   "source": [
    "??ConvnetBuilder"
   ]
  },
  {
   "cell_type": "code",
   "execution_count": null,
   "metadata": {
    "collapsed": true
   },
   "outputs": [],
   "source": []
  }
 ],
 "metadata": {
  "kernelspec": {
   "display_name": "Python 3",
   "language": "python",
   "name": "python3"
  },
  "language_info": {
   "codemirror_mode": {
    "name": "ipython",
    "version": 3
   },
   "file_extension": ".py",
   "mimetype": "text/x-python",
   "name": "python",
   "nbconvert_exporter": "python",
   "pygments_lexer": "ipython3",
   "version": "3.6.3"
  }
 },
 "nbformat": 4,
 "nbformat_minor": 2
}
