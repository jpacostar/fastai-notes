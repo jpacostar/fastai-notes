{
 "cells": [
  {
   "cell_type": "markdown",
   "metadata": {},
   "source": [
    "# Analytics Challenge - Rappi"
   ]
  },
  {
   "cell_type": "code",
   "execution_count": 1,
   "metadata": {
    "ExecuteTime": {
     "end_time": "2018-09-01T18:27:10.084733Z",
     "start_time": "2018-09-01T18:27:09.443736Z"
    }
   },
   "outputs": [],
   "source": [
    "%matplotlib inline\n",
    "%reload_ext autoreload\n",
    "%autoreload 2"
   ]
  },
  {
   "cell_type": "code",
   "execution_count": 2,
   "metadata": {
    "ExecuteTime": {
     "end_time": "2018-09-01T18:27:12.676940Z",
     "start_time": "2018-09-01T18:27:10.087661Z"
    }
   },
   "outputs": [
    {
     "name": "stderr",
     "output_type": "stream",
     "text": [
      "//anaconda/envs/fastai-cpu/lib/python3.6/importlib/_bootstrap.py:219: RuntimeWarning: numpy.dtype size changed, may indicate binary incompatibility. Expected 96, got 88\n",
      "  return f(*args, **kwds)\n",
      "//anaconda/envs/fastai-cpu/lib/python3.6/site-packages/sklearn/ensemble/weight_boosting.py:29: DeprecationWarning: numpy.core.umath_tests is an internal NumPy module and should not be imported. It will be removed in a future NumPy release.\n",
      "  from numpy.core.umath_tests import inner1d\n"
     ]
    }
   ],
   "source": [
    "from fastai.structured import *\n",
    "from fastai.column_data import *\n",
    "np.set_printoptions(threshold=50, edgeitems=20)\n",
    "\n",
    "PATH='data/Rappi/'"
   ]
  },
  {
   "cell_type": "markdown",
   "metadata": {},
   "source": [
    "# Data Preparation"
   ]
  },
  {
   "cell_type": "code",
   "execution_count": 8,
   "metadata": {
    "ExecuteTime": {
     "end_time": "2018-09-01T18:27:21.927811Z",
     "start_time": "2018-09-01T18:27:21.243789Z"
    },
    "scrolled": true
   },
   "outputs": [],
   "source": [
    "orders = pd.read_csv(PATH + 'orders_augmented.csv')\n",
    "orders.taken = orders.taken.astype(np.int32)\n",
    "orders.am = orders.am.astype(np.int64)\n",
    "orders.uphill = orders.uphill.astype(np.int64)\n",
    "orders.set_index('created_at', inplace=True)\n",
    "orders.index = pd.DatetimeIndex(orders.index)"
   ]
  },
  {
   "cell_type": "code",
   "execution_count": 9,
   "metadata": {
    "ExecuteTime": {
     "end_time": "2018-09-01T18:27:22.046115Z",
     "start_time": "2018-09-01T18:27:21.955143Z"
    }
   },
   "outputs": [],
   "source": [
    "orders.drop(['order_id', 'year', 'am', 'month'], axis=1, inplace=True)"
   ]
  },
  {
   "cell_type": "code",
   "execution_count": 10,
   "metadata": {
    "ExecuteTime": {
     "end_time": "2018-09-01T18:27:22.732678Z",
     "start_time": "2018-09-01T18:27:22.597791Z"
    },
    "scrolled": false
   },
   "outputs": [
    {
     "data": {
      "text/html": [
       "<div>\n",
       "<style scoped>\n",
       "    .dataframe tbody tr th:only-of-type {\n",
       "        vertical-align: middle;\n",
       "    }\n",
       "\n",
       "    .dataframe tbody tr th {\n",
       "        vertical-align: top;\n",
       "    }\n",
       "\n",
       "    .dataframe thead th {\n",
       "        text-align: right;\n",
       "    }\n",
       "</style>\n",
       "<table border=\"1\" class=\"dataframe\">\n",
       "  <thead>\n",
       "    <tr style=\"text-align: right;\">\n",
       "      <th>created_at</th>\n",
       "      <th>2017-09-05 00:01:02</th>\n",
       "      <th>2017-09-05 00:11:02</th>\n",
       "      <th>2017-09-05 00:24:02</th>\n",
       "      <th>2017-09-05 00:27:03</th>\n",
       "      <th>2017-09-05 00:33:02</th>\n",
       "      <th>2017-09-05 00:39:02</th>\n",
       "      <th>2017-09-05 00:51:02</th>\n",
       "      <th>2017-09-05 00:51:02</th>\n",
       "      <th>2017-09-05 01:13:02</th>\n",
       "      <th>2017-09-05 01:15:02</th>\n",
       "      <th>...</th>\n",
       "      <th>2017-10-04 23:39:54</th>\n",
       "      <th>2017-10-04 23:39:54</th>\n",
       "      <th>2017-10-04 23:41:53</th>\n",
       "      <th>2017-10-04 23:42:54</th>\n",
       "      <th>2017-10-04 23:44:53</th>\n",
       "      <th>2017-10-04 23:49:54</th>\n",
       "      <th>2017-10-04 23:56:54</th>\n",
       "      <th>2017-10-04 23:56:54</th>\n",
       "      <th>2017-10-04 23:57:53</th>\n",
       "      <th>2017-10-04 23:58:53</th>\n",
       "    </tr>\n",
       "  </thead>\n",
       "  <tbody>\n",
       "    <tr>\n",
       "      <th>store_id</th>\n",
       "      <td>9.000147e+08</td>\n",
       "      <td>9.000020e+08</td>\n",
       "      <td>3.000005e+07</td>\n",
       "      <td>3.000005e+07</td>\n",
       "      <td>9.000124e+08</td>\n",
       "      <td>9.000145e+08</td>\n",
       "      <td>3.000005e+07</td>\n",
       "      <td>9.000127e+08</td>\n",
       "      <td>9.000139e+08</td>\n",
       "      <td>9.000130e+08</td>\n",
       "      <td>...</td>\n",
       "      <td>9.000065e+08</td>\n",
       "      <td>9.000154e+08</td>\n",
       "      <td>9.000130e+08</td>\n",
       "      <td>9.000159e+08</td>\n",
       "      <td>9.000054e+08</td>\n",
       "      <td>9.000051e+08</td>\n",
       "      <td>9.000168e+08</td>\n",
       "      <td>9.000020e+08</td>\n",
       "      <td>9.000051e+08</td>\n",
       "      <td>9.000152e+08</td>\n",
       "    </tr>\n",
       "    <tr>\n",
       "      <th>to_user_distance</th>\n",
       "      <td>1.781381e+00</td>\n",
       "      <td>2.930693e-01</td>\n",
       "      <td>1.009802e+00</td>\n",
       "      <td>1.798326e+00</td>\n",
       "      <td>1.576528e-01</td>\n",
       "      <td>3.823988e-01</td>\n",
       "      <td>6.216354e-01</td>\n",
       "      <td>1.005611e+00</td>\n",
       "      <td>2.769410e+00</td>\n",
       "      <td>2.391864e+00</td>\n",
       "      <td>...</td>\n",
       "      <td>7.178331e-01</td>\n",
       "      <td>1.158753e+00</td>\n",
       "      <td>3.552390e+00</td>\n",
       "      <td>3.106475e+00</td>\n",
       "      <td>2.797687e+00</td>\n",
       "      <td>1.314733e+00</td>\n",
       "      <td>2.843349e+00</td>\n",
       "      <td>1.204369e+00</td>\n",
       "      <td>1.555932e+00</td>\n",
       "      <td>1.018662e+00</td>\n",
       "    </tr>\n",
       "    <tr>\n",
       "      <th>to_user_elevation</th>\n",
       "      <td>1.391643e+02</td>\n",
       "      <td>-1.764929e+01</td>\n",
       "      <td>-1.211853e+01</td>\n",
       "      <td>1.586998e+02</td>\n",
       "      <td>5.725098e-01</td>\n",
       "      <td>-2.038635e+01</td>\n",
       "      <td>-2.851221e+01</td>\n",
       "      <td>2.154260e+01</td>\n",
       "      <td>3.950708e+01</td>\n",
       "      <td>2.731763e+01</td>\n",
       "      <td>...</td>\n",
       "      <td>7.540869e+01</td>\n",
       "      <td>7.023230e+01</td>\n",
       "      <td>3.520715e+01</td>\n",
       "      <td>-2.676990e+01</td>\n",
       "      <td>-4.169983e+01</td>\n",
       "      <td>2.918848e+01</td>\n",
       "      <td>1.804382e+01</td>\n",
       "      <td>5.947620e+01</td>\n",
       "      <td>3.466724e+01</td>\n",
       "      <td>-1.515771e+01</td>\n",
       "    </tr>\n",
       "    <tr>\n",
       "      <th>total_earning</th>\n",
       "      <td>5.200000e+03</td>\n",
       "      <td>7.700000e+03</td>\n",
       "      <td>7.200000e+03</td>\n",
       "      <td>5.200000e+03</td>\n",
       "      <td>5.700000e+03</td>\n",
       "      <td>6.200000e+03</td>\n",
       "      <td>6.200000e+03</td>\n",
       "      <td>5.700000e+03</td>\n",
       "      <td>1.050000e+04</td>\n",
       "      <td>6.700000e+03</td>\n",
       "      <td>...</td>\n",
       "      <td>6.200000e+03</td>\n",
       "      <td>5.200000e+03</td>\n",
       "      <td>8.100000e+03</td>\n",
       "      <td>6.250000e+03</td>\n",
       "      <td>8.050000e+03</td>\n",
       "      <td>7.200000e+03</td>\n",
       "      <td>8.950000e+03</td>\n",
       "      <td>7.200000e+03</td>\n",
       "      <td>6.200000e+03</td>\n",
       "      <td>7.200000e+03</td>\n",
       "    </tr>\n",
       "    <tr>\n",
       "      <th>taken</th>\n",
       "      <td>1.000000e+00</td>\n",
       "      <td>0.000000e+00</td>\n",
       "      <td>1.000000e+00</td>\n",
       "      <td>1.000000e+00</td>\n",
       "      <td>1.000000e+00</td>\n",
       "      <td>1.000000e+00</td>\n",
       "      <td>1.000000e+00</td>\n",
       "      <td>1.000000e+00</td>\n",
       "      <td>1.000000e+00</td>\n",
       "      <td>0.000000e+00</td>\n",
       "      <td>...</td>\n",
       "      <td>1.000000e+00</td>\n",
       "      <td>1.000000e+00</td>\n",
       "      <td>0.000000e+00</td>\n",
       "      <td>1.000000e+00</td>\n",
       "      <td>1.000000e+00</td>\n",
       "      <td>1.000000e+00</td>\n",
       "      <td>0.000000e+00</td>\n",
       "      <td>1.000000e+00</td>\n",
       "      <td>1.000000e+00</td>\n",
       "      <td>0.000000e+00</td>\n",
       "    </tr>\n",
       "    <tr>\n",
       "      <th>day</th>\n",
       "      <td>5.000000e+00</td>\n",
       "      <td>5.000000e+00</td>\n",
       "      <td>5.000000e+00</td>\n",
       "      <td>5.000000e+00</td>\n",
       "      <td>5.000000e+00</td>\n",
       "      <td>5.000000e+00</td>\n",
       "      <td>5.000000e+00</td>\n",
       "      <td>5.000000e+00</td>\n",
       "      <td>5.000000e+00</td>\n",
       "      <td>5.000000e+00</td>\n",
       "      <td>...</td>\n",
       "      <td>4.000000e+00</td>\n",
       "      <td>4.000000e+00</td>\n",
       "      <td>4.000000e+00</td>\n",
       "      <td>4.000000e+00</td>\n",
       "      <td>4.000000e+00</td>\n",
       "      <td>4.000000e+00</td>\n",
       "      <td>4.000000e+00</td>\n",
       "      <td>4.000000e+00</td>\n",
       "      <td>4.000000e+00</td>\n",
       "      <td>4.000000e+00</td>\n",
       "    </tr>\n",
       "    <tr>\n",
       "      <th>wday</th>\n",
       "      <td>2.000000e+00</td>\n",
       "      <td>2.000000e+00</td>\n",
       "      <td>2.000000e+00</td>\n",
       "      <td>2.000000e+00</td>\n",
       "      <td>2.000000e+00</td>\n",
       "      <td>2.000000e+00</td>\n",
       "      <td>2.000000e+00</td>\n",
       "      <td>2.000000e+00</td>\n",
       "      <td>2.000000e+00</td>\n",
       "      <td>2.000000e+00</td>\n",
       "      <td>...</td>\n",
       "      <td>3.000000e+00</td>\n",
       "      <td>3.000000e+00</td>\n",
       "      <td>3.000000e+00</td>\n",
       "      <td>3.000000e+00</td>\n",
       "      <td>3.000000e+00</td>\n",
       "      <td>3.000000e+00</td>\n",
       "      <td>3.000000e+00</td>\n",
       "      <td>3.000000e+00</td>\n",
       "      <td>3.000000e+00</td>\n",
       "      <td>3.000000e+00</td>\n",
       "    </tr>\n",
       "    <tr>\n",
       "      <th>hour</th>\n",
       "      <td>0.000000e+00</td>\n",
       "      <td>0.000000e+00</td>\n",
       "      <td>0.000000e+00</td>\n",
       "      <td>0.000000e+00</td>\n",
       "      <td>0.000000e+00</td>\n",
       "      <td>0.000000e+00</td>\n",
       "      <td>0.000000e+00</td>\n",
       "      <td>0.000000e+00</td>\n",
       "      <td>1.000000e+00</td>\n",
       "      <td>1.000000e+00</td>\n",
       "      <td>...</td>\n",
       "      <td>2.300000e+01</td>\n",
       "      <td>2.300000e+01</td>\n",
       "      <td>2.300000e+01</td>\n",
       "      <td>2.300000e+01</td>\n",
       "      <td>2.300000e+01</td>\n",
       "      <td>2.300000e+01</td>\n",
       "      <td>2.300000e+01</td>\n",
       "      <td>2.300000e+01</td>\n",
       "      <td>2.300000e+01</td>\n",
       "      <td>2.300000e+01</td>\n",
       "    </tr>\n",
       "    <tr>\n",
       "      <th>distance</th>\n",
       "      <td>1.786809e+00</td>\n",
       "      <td>2.936003e-01</td>\n",
       "      <td>1.009875e+00</td>\n",
       "      <td>1.805315e+00</td>\n",
       "      <td>1.576538e-01</td>\n",
       "      <td>3.829419e-01</td>\n",
       "      <td>6.222889e-01</td>\n",
       "      <td>1.005842e+00</td>\n",
       "      <td>2.769692e+00</td>\n",
       "      <td>2.392020e+00</td>\n",
       "      <td>...</td>\n",
       "      <td>7.217831e-01</td>\n",
       "      <td>1.160879e+00</td>\n",
       "      <td>3.552564e+00</td>\n",
       "      <td>3.106590e+00</td>\n",
       "      <td>2.797998e+00</td>\n",
       "      <td>1.315057e+00</td>\n",
       "      <td>2.843406e+00</td>\n",
       "      <td>1.205836e+00</td>\n",
       "      <td>1.556318e+00</td>\n",
       "      <td>1.018775e+00</td>\n",
       "    </tr>\n",
       "    <tr>\n",
       "      <th>uphill</th>\n",
       "      <td>1.000000e+00</td>\n",
       "      <td>0.000000e+00</td>\n",
       "      <td>0.000000e+00</td>\n",
       "      <td>1.000000e+00</td>\n",
       "      <td>1.000000e+00</td>\n",
       "      <td>0.000000e+00</td>\n",
       "      <td>0.000000e+00</td>\n",
       "      <td>1.000000e+00</td>\n",
       "      <td>1.000000e+00</td>\n",
       "      <td>1.000000e+00</td>\n",
       "      <td>...</td>\n",
       "      <td>1.000000e+00</td>\n",
       "      <td>1.000000e+00</td>\n",
       "      <td>1.000000e+00</td>\n",
       "      <td>0.000000e+00</td>\n",
       "      <td>0.000000e+00</td>\n",
       "      <td>1.000000e+00</td>\n",
       "      <td>1.000000e+00</td>\n",
       "      <td>1.000000e+00</td>\n",
       "      <td>1.000000e+00</td>\n",
       "      <td>0.000000e+00</td>\n",
       "    </tr>\n",
       "  </tbody>\n",
       "</table>\n",
       "<p>10 rows × 146987 columns</p>\n",
       "</div>"
      ],
      "text/plain": [
       "created_at         2017-09-05 00:01:02  2017-09-05 00:11:02  \\\n",
       "store_id                  9.000147e+08         9.000020e+08   \n",
       "to_user_distance          1.781381e+00         2.930693e-01   \n",
       "to_user_elevation         1.391643e+02        -1.764929e+01   \n",
       "total_earning             5.200000e+03         7.700000e+03   \n",
       "taken                     1.000000e+00         0.000000e+00   \n",
       "day                       5.000000e+00         5.000000e+00   \n",
       "wday                      2.000000e+00         2.000000e+00   \n",
       "hour                      0.000000e+00         0.000000e+00   \n",
       "distance                  1.786809e+00         2.936003e-01   \n",
       "uphill                    1.000000e+00         0.000000e+00   \n",
       "\n",
       "created_at         2017-09-05 00:24:02  2017-09-05 00:27:03  \\\n",
       "store_id                  3.000005e+07         3.000005e+07   \n",
       "to_user_distance          1.009802e+00         1.798326e+00   \n",
       "to_user_elevation        -1.211853e+01         1.586998e+02   \n",
       "total_earning             7.200000e+03         5.200000e+03   \n",
       "taken                     1.000000e+00         1.000000e+00   \n",
       "day                       5.000000e+00         5.000000e+00   \n",
       "wday                      2.000000e+00         2.000000e+00   \n",
       "hour                      0.000000e+00         0.000000e+00   \n",
       "distance                  1.009875e+00         1.805315e+00   \n",
       "uphill                    0.000000e+00         1.000000e+00   \n",
       "\n",
       "created_at         2017-09-05 00:33:02  2017-09-05 00:39:02  \\\n",
       "store_id                  9.000124e+08         9.000145e+08   \n",
       "to_user_distance          1.576528e-01         3.823988e-01   \n",
       "to_user_elevation         5.725098e-01        -2.038635e+01   \n",
       "total_earning             5.700000e+03         6.200000e+03   \n",
       "taken                     1.000000e+00         1.000000e+00   \n",
       "day                       5.000000e+00         5.000000e+00   \n",
       "wday                      2.000000e+00         2.000000e+00   \n",
       "hour                      0.000000e+00         0.000000e+00   \n",
       "distance                  1.576538e-01         3.829419e-01   \n",
       "uphill                    1.000000e+00         0.000000e+00   \n",
       "\n",
       "created_at         2017-09-05 00:51:02  2017-09-05 00:51:02  \\\n",
       "store_id                  3.000005e+07         9.000127e+08   \n",
       "to_user_distance          6.216354e-01         1.005611e+00   \n",
       "to_user_elevation        -2.851221e+01         2.154260e+01   \n",
       "total_earning             6.200000e+03         5.700000e+03   \n",
       "taken                     1.000000e+00         1.000000e+00   \n",
       "day                       5.000000e+00         5.000000e+00   \n",
       "wday                      2.000000e+00         2.000000e+00   \n",
       "hour                      0.000000e+00         0.000000e+00   \n",
       "distance                  6.222889e-01         1.005842e+00   \n",
       "uphill                    0.000000e+00         1.000000e+00   \n",
       "\n",
       "created_at         2017-09-05 01:13:02  2017-09-05 01:15:02  \\\n",
       "store_id                  9.000139e+08         9.000130e+08   \n",
       "to_user_distance          2.769410e+00         2.391864e+00   \n",
       "to_user_elevation         3.950708e+01         2.731763e+01   \n",
       "total_earning             1.050000e+04         6.700000e+03   \n",
       "taken                     1.000000e+00         0.000000e+00   \n",
       "day                       5.000000e+00         5.000000e+00   \n",
       "wday                      2.000000e+00         2.000000e+00   \n",
       "hour                      1.000000e+00         1.000000e+00   \n",
       "distance                  2.769692e+00         2.392020e+00   \n",
       "uphill                    1.000000e+00         1.000000e+00   \n",
       "\n",
       "created_at                ...           2017-10-04 23:39:54  \\\n",
       "store_id                  ...                  9.000065e+08   \n",
       "to_user_distance          ...                  7.178331e-01   \n",
       "to_user_elevation         ...                  7.540869e+01   \n",
       "total_earning             ...                  6.200000e+03   \n",
       "taken                     ...                  1.000000e+00   \n",
       "day                       ...                  4.000000e+00   \n",
       "wday                      ...                  3.000000e+00   \n",
       "hour                      ...                  2.300000e+01   \n",
       "distance                  ...                  7.217831e-01   \n",
       "uphill                    ...                  1.000000e+00   \n",
       "\n",
       "created_at         2017-10-04 23:39:54  2017-10-04 23:41:53  \\\n",
       "store_id                  9.000154e+08         9.000130e+08   \n",
       "to_user_distance          1.158753e+00         3.552390e+00   \n",
       "to_user_elevation         7.023230e+01         3.520715e+01   \n",
       "total_earning             5.200000e+03         8.100000e+03   \n",
       "taken                     1.000000e+00         0.000000e+00   \n",
       "day                       4.000000e+00         4.000000e+00   \n",
       "wday                      3.000000e+00         3.000000e+00   \n",
       "hour                      2.300000e+01         2.300000e+01   \n",
       "distance                  1.160879e+00         3.552564e+00   \n",
       "uphill                    1.000000e+00         1.000000e+00   \n",
       "\n",
       "created_at         2017-10-04 23:42:54  2017-10-04 23:44:53  \\\n",
       "store_id                  9.000159e+08         9.000054e+08   \n",
       "to_user_distance          3.106475e+00         2.797687e+00   \n",
       "to_user_elevation        -2.676990e+01        -4.169983e+01   \n",
       "total_earning             6.250000e+03         8.050000e+03   \n",
       "taken                     1.000000e+00         1.000000e+00   \n",
       "day                       4.000000e+00         4.000000e+00   \n",
       "wday                      3.000000e+00         3.000000e+00   \n",
       "hour                      2.300000e+01         2.300000e+01   \n",
       "distance                  3.106590e+00         2.797998e+00   \n",
       "uphill                    0.000000e+00         0.000000e+00   \n",
       "\n",
       "created_at         2017-10-04 23:49:54  2017-10-04 23:56:54  \\\n",
       "store_id                  9.000051e+08         9.000168e+08   \n",
       "to_user_distance          1.314733e+00         2.843349e+00   \n",
       "to_user_elevation         2.918848e+01         1.804382e+01   \n",
       "total_earning             7.200000e+03         8.950000e+03   \n",
       "taken                     1.000000e+00         0.000000e+00   \n",
       "day                       4.000000e+00         4.000000e+00   \n",
       "wday                      3.000000e+00         3.000000e+00   \n",
       "hour                      2.300000e+01         2.300000e+01   \n",
       "distance                  1.315057e+00         2.843406e+00   \n",
       "uphill                    1.000000e+00         1.000000e+00   \n",
       "\n",
       "created_at         2017-10-04 23:56:54  2017-10-04 23:57:53  \\\n",
       "store_id                  9.000020e+08         9.000051e+08   \n",
       "to_user_distance          1.204369e+00         1.555932e+00   \n",
       "to_user_elevation         5.947620e+01         3.466724e+01   \n",
       "total_earning             7.200000e+03         6.200000e+03   \n",
       "taken                     1.000000e+00         1.000000e+00   \n",
       "day                       4.000000e+00         4.000000e+00   \n",
       "wday                      3.000000e+00         3.000000e+00   \n",
       "hour                      2.300000e+01         2.300000e+01   \n",
       "distance                  1.205836e+00         1.556318e+00   \n",
       "uphill                    1.000000e+00         1.000000e+00   \n",
       "\n",
       "created_at         2017-10-04 23:58:53  \n",
       "store_id                  9.000152e+08  \n",
       "to_user_distance          1.018662e+00  \n",
       "to_user_elevation        -1.515771e+01  \n",
       "total_earning             7.200000e+03  \n",
       "taken                     0.000000e+00  \n",
       "day                       4.000000e+00  \n",
       "wday                      3.000000e+00  \n",
       "hour                      2.300000e+01  \n",
       "distance                  1.018775e+00  \n",
       "uphill                    0.000000e+00  \n",
       "\n",
       "[10 rows x 146987 columns]"
      ]
     },
     "execution_count": 10,
     "metadata": {},
     "output_type": "execute_result"
    }
   ],
   "source": [
    "orders.T"
   ]
  },
  {
   "cell_type": "code",
   "execution_count": 11,
   "metadata": {
    "ExecuteTime": {
     "end_time": "2018-09-01T18:27:23.210851Z",
     "start_time": "2018-09-01T18:27:23.148984Z"
    }
   },
   "outputs": [],
   "source": [
    "cat_vars = ['store_id', 'day', 'wday', 'hour']\n",
    "cont_vars = ['to_user_distance', 'to_user_elevation', 'total_earning', 'distance']\n",
    "dep = 'taken'"
   ]
  },
  {
   "cell_type": "code",
   "execution_count": 12,
   "metadata": {
    "ExecuteTime": {
     "end_time": "2018-09-01T18:27:24.981141Z",
     "start_time": "2018-09-01T18:27:24.923010Z"
    }
   },
   "outputs": [],
   "source": [
    "n = len(orders)\n",
    "pct_test = 0.15\n",
    "orders_train = orders.iloc[:int((1 - pct_test) * n)].copy()\n",
    "orders_test = orders.iloc[int((1 - pct_test) * n):].copy()"
   ]
  },
  {
   "cell_type": "code",
   "execution_count": 13,
   "metadata": {
    "ExecuteTime": {
     "end_time": "2018-09-01T18:27:25.542245Z",
     "start_time": "2018-09-01T18:27:25.474508Z"
    }
   },
   "outputs": [],
   "source": [
    "for v in cat_vars: orders_train[v] = orders_train[v].astype('category').cat.as_ordered()"
   ]
  },
  {
   "cell_type": "code",
   "execution_count": 14,
   "metadata": {
    "ExecuteTime": {
     "end_time": "2018-09-01T18:27:26.427140Z",
     "start_time": "2018-09-01T18:27:26.371331Z"
    }
   },
   "outputs": [],
   "source": [
    "apply_cats(orders_test, orders_train)"
   ]
  },
  {
   "cell_type": "code",
   "execution_count": 15,
   "metadata": {
    "ExecuteTime": {
     "end_time": "2018-09-01T18:27:26.770553Z",
     "start_time": "2018-09-01T18:27:26.706480Z"
    }
   },
   "outputs": [],
   "source": [
    "for v in cont_vars:\n",
    "    orders_train[v] = orders_train[v].fillna(0).astype('float32')\n",
    "    orders_test[v] = orders_test[v].fillna(0).astype('float32')"
   ]
  },
  {
   "cell_type": "code",
   "execution_count": 16,
   "metadata": {
    "ExecuteTime": {
     "end_time": "2018-09-01T18:27:27.374293Z",
     "start_time": "2018-09-01T18:27:27.081769Z"
    }
   },
   "outputs": [],
   "source": [
    "df, y, nas, mapper = proc_df(orders_train, dep, do_scale=True)"
   ]
  },
  {
   "cell_type": "code",
   "execution_count": 17,
   "metadata": {
    "ExecuteTime": {
     "end_time": "2018-09-01T18:27:28.172294Z",
     "start_time": "2018-09-01T18:27:28.059022Z"
    }
   },
   "outputs": [],
   "source": [
    "df_test, y_test, nas, mapper = proc_df(orders_test, dep, do_scale=True,\n",
    "                                       mapper=mapper, na_dict=nas)"
   ]
  },
  {
   "cell_type": "code",
   "execution_count": 18,
   "metadata": {
    "ExecuteTime": {
     "end_time": "2018-09-01T18:27:31.332570Z",
     "start_time": "2018-09-01T18:27:31.259870Z"
    }
   },
   "outputs": [
    {
     "data": {
      "text/html": [
       "<div>\n",
       "<style scoped>\n",
       "    .dataframe tbody tr th:only-of-type {\n",
       "        vertical-align: middle;\n",
       "    }\n",
       "\n",
       "    .dataframe tbody tr th {\n",
       "        vertical-align: top;\n",
       "    }\n",
       "\n",
       "    .dataframe thead th {\n",
       "        text-align: right;\n",
       "    }\n",
       "</style>\n",
       "<table border=\"1\" class=\"dataframe\">\n",
       "  <thead>\n",
       "    <tr style=\"text-align: right;\">\n",
       "      <th></th>\n",
       "      <th>store_id</th>\n",
       "      <th>to_user_distance</th>\n",
       "      <th>to_user_elevation</th>\n",
       "      <th>total_earning</th>\n",
       "      <th>day</th>\n",
       "      <th>wday</th>\n",
       "      <th>hour</th>\n",
       "      <th>distance</th>\n",
       "      <th>uphill</th>\n",
       "    </tr>\n",
       "    <tr>\n",
       "      <th>created_at</th>\n",
       "      <th></th>\n",
       "      <th></th>\n",
       "      <th></th>\n",
       "      <th></th>\n",
       "      <th></th>\n",
       "      <th></th>\n",
       "      <th></th>\n",
       "      <th></th>\n",
       "      <th></th>\n",
       "    </tr>\n",
       "  </thead>\n",
       "  <tbody>\n",
       "    <tr>\n",
       "      <th>2017-09-05 00:01:02</th>\n",
       "      <td>631</td>\n",
       "      <td>0.339485</td>\n",
       "      <td>1.332154</td>\n",
       "      <td>-0.083696</td>\n",
       "      <td>1</td>\n",
       "      <td>2</td>\n",
       "      <td>1</td>\n",
       "      <td>0.342965</td>\n",
       "      <td>0.823455</td>\n",
       "    </tr>\n",
       "    <tr>\n",
       "      <th>2017-09-05 00:11:02</th>\n",
       "      <td>94</td>\n",
       "      <td>-1.430522</td>\n",
       "      <td>-0.525451</td>\n",
       "      <td>1.325241</td>\n",
       "      <td>1</td>\n",
       "      <td>2</td>\n",
       "      <td>1</td>\n",
       "      <td>-1.431735</td>\n",
       "      <td>-1.214395</td>\n",
       "    </tr>\n",
       "    <tr>\n",
       "      <th>2017-09-05 00:24:02</th>\n",
       "      <td>14</td>\n",
       "      <td>-0.578132</td>\n",
       "      <td>-0.459934</td>\n",
       "      <td>1.043454</td>\n",
       "      <td>1</td>\n",
       "      <td>2</td>\n",
       "      <td>1</td>\n",
       "      <td>-0.580432</td>\n",
       "      <td>-1.214395</td>\n",
       "    </tr>\n",
       "    <tr>\n",
       "      <th>2017-09-05 00:27:03</th>\n",
       "      <td>14</td>\n",
       "      <td>0.359637</td>\n",
       "      <td>1.563571</td>\n",
       "      <td>-0.083696</td>\n",
       "      <td>1</td>\n",
       "      <td>2</td>\n",
       "      <td>1</td>\n",
       "      <td>0.364961</td>\n",
       "      <td>0.823455</td>\n",
       "    </tr>\n",
       "    <tr>\n",
       "      <th>2017-09-05 00:33:02</th>\n",
       "      <td>446</td>\n",
       "      <td>-1.591569</td>\n",
       "      <td>-0.309596</td>\n",
       "      <td>0.198092</td>\n",
       "      <td>1</td>\n",
       "      <td>2</td>\n",
       "      <td>1</td>\n",
       "      <td>-1.593310</td>\n",
       "      <td>0.823455</td>\n",
       "    </tr>\n",
       "  </tbody>\n",
       "</table>\n",
       "</div>"
      ],
      "text/plain": [
       "                     store_id  to_user_distance  to_user_elevation  \\\n",
       "created_at                                                           \n",
       "2017-09-05 00:01:02       631          0.339485           1.332154   \n",
       "2017-09-05 00:11:02        94         -1.430522          -0.525451   \n",
       "2017-09-05 00:24:02        14         -0.578132          -0.459934   \n",
       "2017-09-05 00:27:03        14          0.359637           1.563571   \n",
       "2017-09-05 00:33:02       446         -1.591569          -0.309596   \n",
       "\n",
       "                     total_earning  day  wday  hour  distance    uphill  \n",
       "created_at                                                               \n",
       "2017-09-05 00:01:02      -0.083696    1     2     1  0.342965  0.823455  \n",
       "2017-09-05 00:11:02       1.325241    1     2     1 -1.431735 -1.214395  \n",
       "2017-09-05 00:24:02       1.043454    1     2     1 -0.580432 -1.214395  \n",
       "2017-09-05 00:27:03      -0.083696    1     2     1  0.364961  0.823455  \n",
       "2017-09-05 00:33:02       0.198092    1     2     1 -1.593310  0.823455  "
      ]
     },
     "execution_count": 18,
     "metadata": {},
     "output_type": "execute_result"
    }
   ],
   "source": [
    "df.head()"
   ]
  },
  {
   "cell_type": "code",
   "execution_count": 19,
   "metadata": {
    "ExecuteTime": {
     "end_time": "2018-09-01T18:27:33.386837Z",
     "start_time": "2018-09-01T18:27:33.315041Z"
    }
   },
   "outputs": [
    {
     "data": {
      "text/plain": [
       "[102889,\n",
       " 102890,\n",
       " 102891,\n",
       " 102892,\n",
       " 102893,\n",
       " 102894,\n",
       " 102895,\n",
       " 102896,\n",
       " 102897,\n",
       " 102898]"
      ]
     },
     "execution_count": 19,
     "metadata": {},
     "output_type": "execute_result"
    }
   ],
   "source": [
    "val_idx = list(range(len(df) - len(df_test), len(df)))\n",
    "val_idx[:10]"
   ]
  },
  {
   "cell_type": "markdown",
   "metadata": {},
   "source": [
    "# DL"
   ]
  },
  {
   "cell_type": "markdown",
   "metadata": {},
   "source": [
    "## Modifications\n",
    "\n",
    "See: https://github.com/KeremTurgutlu/deeplearning/blob/master/avazu/FAST.AI%20Classification%20-%20Kaggle%20Avazu%20CTR.ipynb."
   ]
  },
  {
   "cell_type": "code",
   "execution_count": 43,
   "metadata": {
    "ExecuteTime": {
     "end_time": "2018-09-01T18:34:10.785119Z",
     "start_time": "2018-09-01T18:34:10.703566Z"
    }
   },
   "outputs": [],
   "source": [
    "class MixedInputModel(nn.Module):\n",
    "    def __init__(self, emb_szs, n_cont, emb_drop, out_sz, szs, drops,\n",
    "                 y_range=None, use_bn=False):\n",
    "        super().__init__()\n",
    "        self.embs = nn.ModuleList([nn.Embedding(c, s) for c,s in emb_szs])\n",
    "        for emb in self.embs: emb_init(emb)\n",
    "        n_emb = sum(e.embedding_dim for e in self.embs)\n",
    "        self.n_emb, self.n_cont=n_emb, n_cont\n",
    "        \n",
    "        szs = [n_emb+n_cont] + szs\n",
    "        self.lins = nn.ModuleList([\n",
    "            nn.Linear(szs[i], szs[i+1]) for i in range(len(szs)-1)])\n",
    "        self.bns = nn.ModuleList([\n",
    "            nn.BatchNorm1d(sz) for sz in szs[1:]])\n",
    "        for o in self.lins: kaiming_normal(o.weight.data)\n",
    "        self.outp = nn.Linear(szs[-1], out_sz)\n",
    "        kaiming_normal(self.outp.weight.data)\n",
    "\n",
    "        self.emb_drop = nn.Dropout(emb_drop)\n",
    "        self.drops = nn.ModuleList([nn.Dropout(drop) for drop in drops])\n",
    "        self.bn = nn.BatchNorm1d(n_cont)\n",
    "        self.use_bn,self.y_range = use_bn,y_range\n",
    "\n",
    "    def forward(self, x_cat, x_cont):\n",
    "        if self.n_emb != 0:\n",
    "            x = [e(x_cat[:,i]) for i,e in enumerate(self.embs)]\n",
    "            x = torch.cat(x, 1)\n",
    "            x = self.emb_drop(x)\n",
    "        if self.n_cont != 0:\n",
    "            x2 = self.bn(x_cont)\n",
    "            x = torch.cat([x, x2], 1) if self.n_emb != 0 else x2\n",
    "        for l,d,b in zip(self.lins, self.drops, self.bns):\n",
    "            x = F.relu(l(x))\n",
    "            if self.use_bn: x = b(x)\n",
    "            x = d(x)\n",
    "        x = self.outp(x)\n",
    "        if self.y_range:\n",
    "            x = F.sigmoid(x)\n",
    "            x = x*(self.y_range[1] - self.y_range[0])\n",
    "            x = x+self.y_range[0]\n",
    "        return x\n",
    "    \n",
    "class ColumnarDataset(Dataset):\n",
    "    def __init__(self, cats, conts, y):\n",
    "        n = len(cats[0]) if cats else len(conts[0])\n",
    "        self.cats = np.stack(cats, 1).astype(np.int64) if cats else np.zeros((n,1))\n",
    "        self.conts = np.stack(conts, 1).astype(np.float32) if conts else np.zeros((n,1))\n",
    "        self.y = np.zeros((n,1)) if y is None else y.values # THIS LINE IS CHANGED FROM y[:, None]\n",
    "        \n",
    "    def __len__(self): return len(self.y)\n",
    "\n",
    "    def __getitem__(self, idx):\n",
    "        return [self.cats[idx], self.conts[idx], self.y[idx]]\n",
    "\n",
    "    @classmethod\n",
    "    def from_data_frames(cls, df_cat, df_cont, y=None):\n",
    "        cat_cols = [c.values for n,c in df_cat.items()]\n",
    "        cont_cols = [c.values for n,c in df_cont.items()]\n",
    "        return cls(cat_cols, cont_cols, y)\n",
    "\n",
    "    @classmethod\n",
    "    def from_data_frame(cls, df, cat_flds, y=None):\n",
    "        return cls.from_data_frames(df[cat_flds], df.drop(cat_flds, axis=1), y)\n",
    "    \n",
    "\n",
    "class ColumnarModelData(ModelData):\n",
    "    def __init__(self, path, trn_ds, val_ds, bs, test_ds=None, shuffle=True):\n",
    "        test_dl = DataLoader(test_ds, bs, shuffle=False, num_workers=1) if test_ds is not None else None\n",
    "        super().__init__(path, DataLoader(trn_ds, bs, shuffle=shuffle, num_workers=1),\n",
    "            DataLoader(val_ds, bs*2, shuffle=False, num_workers=1), test_dl)\n",
    "\n",
    "    @classmethod\n",
    "    def from_arrays(cls, path, val_idxs, xs, y, bs=64, test_xs=None, shuffle=True):\n",
    "        ((val_xs, trn_xs), (val_y, trn_y)) = split_by_idx(val_idxs, xs, y)\n",
    "        test_ds = PassthruDataset(*(test_xs.T), [0] * len(test_xs)) if test_xs is not None else None\n",
    "        return cls(path, PassthruDataset(*(trn_xs.T), trn_y), PassthruDataset(*(val_xs.T), val_y),\n",
    "                   bs=bs, shuffle=shuffle, test_ds=test_ds)\n",
    "\n",
    "    @classmethod\n",
    "    def from_data_frames(cls, path, trn_df, val_df, trn_y, val_y, cat_flds, bs, test_df=None):\n",
    "        test_ds = ColumnarDataset.from_data_frame(test_df, cat_flds) if test_df is not None else None\n",
    "        return cls(path, ColumnarDataset.from_data_frame(trn_df, cat_flds, trn_y),\n",
    "                    ColumnarDataset.from_data_frame(val_df, cat_flds, val_y), bs, test_ds=test_ds)\n",
    "\n",
    "    @classmethod\n",
    "    def from_data_frame(cls, path, val_idxs, df, y, cat_flds, bs, test_df=None):\n",
    "        ((val_df, trn_df), (val_y, trn_y)) = split_by_idx(val_idxs, df, y)\n",
    "        return cls.from_data_frames(path, trn_df, val_df, trn_y, val_y, cat_flds, bs, test_df=test_df)\n",
    "\n",
    "    def get_learner(self, emb_szs, n_cont, emb_drop, out_sz, szs, drops,\n",
    "                    y_range=None, use_bn=False, **kwargs):\n",
    "        model = MixedInputModel(emb_szs, n_cont, emb_drop, out_sz, szs, drops, y_range, use_bn)\n",
    "        return StructuredLearner(self, StructuredModel(to_gpu(model)), opt_fn=optim.Adam, **kwargs)"
   ]
  },
  {
   "cell_type": "markdown",
   "metadata": {},
   "source": [
    "## Fitting "
   ]
  },
  {
   "cell_type": "code",
   "execution_count": 44,
   "metadata": {
    "ExecuteTime": {
     "end_time": "2018-09-01T18:34:11.863541Z",
     "start_time": "2018-09-01T18:34:11.814870Z"
    }
   },
   "outputs": [
    {
     "data": {
      "text/plain": [
       "[('store_id', 812), ('day', 27), ('wday', 8), ('hour', 25)]"
      ]
     },
     "execution_count": 44,
     "metadata": {},
     "output_type": "execute_result"
    }
   ],
   "source": [
    "cat_sz = [(c, len(orders_train[c].cat.categories)+1) for c in cat_vars]\n",
    "cat_sz"
   ]
  },
  {
   "cell_type": "code",
   "execution_count": 45,
   "metadata": {
    "ExecuteTime": {
     "end_time": "2018-09-01T18:34:12.260642Z",
     "start_time": "2018-09-01T18:34:12.188940Z"
    }
   },
   "outputs": [
    {
     "data": {
      "text/plain": [
       "[(812, 50), (27, 14), (8, 4), (25, 13)]"
      ]
     },
     "execution_count": 45,
     "metadata": {},
     "output_type": "execute_result"
    }
   ],
   "source": [
    "emb_szs = [(c, min(50, (c+1)//2)) for _,c in cat_sz]\n",
    "emb_szs"
   ]
  },
  {
   "cell_type": "code",
   "execution_count": 46,
   "metadata": {
    "ExecuteTime": {
     "end_time": "2018-09-01T18:34:12.679358Z",
     "start_time": "2018-09-01T18:34:12.611584Z"
    }
   },
   "outputs": [],
   "source": [
    "model = MixedInputModel(emb_szs, n_cont=len(df.columns)-len(cat_vars),\n",
    "                        emb_drop=0, out_sz=2, szs=[500], drops=[0.5])"
   ]
  },
  {
   "cell_type": "code",
   "execution_count": 47,
   "metadata": {
    "ExecuteTime": {
     "end_time": "2018-09-01T18:34:13.659727Z",
     "start_time": "2018-09-01T18:34:13.607219Z"
    }
   },
   "outputs": [],
   "source": [
    "bm = BasicModel(model, 'binary_classifier')"
   ]
  },
  {
   "cell_type": "code",
   "execution_count": 68,
   "metadata": {
    "ExecuteTime": {
     "end_time": "2018-09-01T18:39:04.932636Z",
     "start_time": "2018-09-01T18:39:04.883167Z"
    },
    "scrolled": true
   },
   "outputs": [
    {
     "data": {
      "text/plain": [
       "MixedInputModel(\n",
       "  (embs): ModuleList(\n",
       "    (0): Embedding(812, 50)\n",
       "    (1): Embedding(27, 14)\n",
       "    (2): Embedding(8, 4)\n",
       "    (3): Embedding(25, 13)\n",
       "  )\n",
       "  (lins): ModuleList(\n",
       "    (0): Linear(in_features=86, out_features=500, bias=True)\n",
       "  )\n",
       "  (bns): ModuleList(\n",
       "    (0): BatchNorm1d(500, eps=1e-05, momentum=0.1, affine=True)\n",
       "  )\n",
       "  (outp): Linear(in_features=500, out_features=2, bias=True)\n",
       "  (emb_drop): Dropout(p=0)\n",
       "  (drops): ModuleList(\n",
       "    (0): Dropout(p=0.5)\n",
       "  )\n",
       "  (bn): BatchNorm1d(5, eps=1e-05, momentum=0.1, affine=True)\n",
       ")"
      ]
     },
     "execution_count": 68,
     "metadata": {},
     "output_type": "execute_result"
    }
   ],
   "source": [
    "model"
   ]
  },
  {
   "cell_type": "code",
   "execution_count": 49,
   "metadata": {
    "ExecuteTime": {
     "end_time": "2018-09-01T18:34:27.068939Z",
     "start_time": "2018-09-01T18:34:26.992462Z"
    }
   },
   "outputs": [],
   "source": [
    "md = ColumnarModelData.from_data_frame(PATH, val_idx, df, orders_train.taken, cat_flds=cat_vars, bs=128,\n",
    "                                       test_df=df_test)"
   ]
  },
  {
   "cell_type": "code",
   "execution_count": 50,
   "metadata": {
    "ExecuteTime": {
     "end_time": "2018-09-01T18:34:28.179889Z",
     "start_time": "2018-09-01T18:34:28.126875Z"
    }
   },
   "outputs": [],
   "source": [
    "# you can simply create learner with any custom model and data\n",
    "# source code is here\n",
    "class StructuredLearner(Learner):\n",
    "    def __init__(self, data, models, **kwargs):\n",
    "        super().__init__(data, models, **kwargs)\n",
    "        self.crit = F.mse_loss\n",
    "\n",
    "\n",
    "learn = StructuredLearner(md, bm)"
   ]
  },
  {
   "cell_type": "code",
   "execution_count": 51,
   "metadata": {
    "ExecuteTime": {
     "end_time": "2018-09-01T18:34:28.480038Z",
     "start_time": "2018-09-01T18:34:28.407180Z"
    }
   },
   "outputs": [
    {
     "data": {
      "text/plain": [
       "<function torch.nn.functional.cross_entropy(input, target, weight=None, size_average=True, ignore_index=-100, reduce=True)>"
      ]
     },
     "execution_count": 51,
     "metadata": {},
     "output_type": "execute_result"
    }
   ],
   "source": [
    "learn.crit = F.cross_entropy\n",
    "learn.crit"
   ]
  },
  {
   "cell_type": "code",
   "execution_count": 72,
   "metadata": {
    "ExecuteTime": {
     "end_time": "2018-09-01T18:39:37.080194Z",
     "start_time": "2018-09-01T18:39:30.789224Z"
    }
   },
   "outputs": [
    {
     "data": {
      "application/vnd.jupyter.widget-view+json": {
       "model_id": "56c2d662e0d74823a79aa0960118497c",
       "version_major": 2,
       "version_minor": 0
      },
      "text/plain": [
       "HBox(children=(IntProgress(value=0, description='Epoch', max=1), HTML(value='')))"
      ]
     },
     "metadata": {},
     "output_type": "display_data"
    },
    {
     "name": "stdout",
     "output_type": "stream",
     "text": [
      " 89%|████████▉ | 715/804 [00:06<00:00, 116.98it/s, loss=0.278]\n",
      "                                                              \r"
     ]
    }
   ],
   "source": [
    "learn.lr_find()"
   ]
  },
  {
   "cell_type": "code",
   "execution_count": 73,
   "metadata": {
    "ExecuteTime": {
     "end_time": "2018-09-01T18:39:37.750569Z",
     "start_time": "2018-09-01T18:39:37.083094Z"
    }
   },
   "outputs": [
    {
     "data": {
      "image/png": "[encoded data removed]",
      "text/plain": [
       "<Figure size 432x288 with 1 Axes>"
      ]
     },
     "metadata": {},
     "output_type": "display_data"
    }
   ],
   "source": [
    "learn.sched.plot()"
   ]
  },
  {
   "cell_type": "markdown",
   "metadata": {},
   "source": [
    "## Fitting "
   ]
  },
  {
   "cell_type": "code",
   "execution_count": 55,
   "metadata": {
    "ExecuteTime": {
     "end_time": "2018-09-01T18:35:33.305234Z",
     "start_time": "2018-09-01T18:35:12.345772Z"
    }
   },
   "outputs": [
    {
     "data": {
      "application/vnd.jupyter.widget-view+json": {
       "model_id": "55aadc522a5c40c19088b577ac697793",
       "version_major": 2,
       "version_minor": 0
      },
      "text/plain": [
       "HBox(children=(IntProgress(value=0, description='Epoch', max=3), HTML(value='')))"
      ]
     },
     "metadata": {},
     "output_type": "display_data"
    },
    {
     "name": "stdout",
     "output_type": "stream",
     "text": [
      "epoch      trn_loss   val_loss                                \n",
      "    0      0.265506   0.28218   \n",
      "    1      0.254794   0.277034                                \n",
      "    2      0.258504   0.274652                                \n",
      "\n"
     ]
    },
    {
     "data": {
      "text/plain": [
       "[array([0.27465])]"
      ]
     },
     "execution_count": 55,
     "metadata": {},
     "output_type": "execute_result"
    }
   ],
   "source": [
    "lr = 1e-2\n",
    "learn.fit(lr, 3)"
   ]
  },
  {
   "cell_type": "code",
   "execution_count": 74,
   "metadata": {
    "ExecuteTime": {
     "end_time": "2018-09-01T18:41:19.911131Z",
     "start_time": "2018-09-01T18:40:05.776705Z"
    },
    "scrolled": true
   },
   "outputs": [
    {
     "data": {
      "application/vnd.jupyter.widget-view+json": {
       "model_id": "299465daddef4a359777d5c624e7233b",
       "version_major": 2,
       "version_minor": 0
      },
      "text/plain": [
       "HBox(children=(IntProgress(value=0, description='Epoch', max=10), HTML(value='')))"
      ]
     },
     "metadata": {},
     "output_type": "display_data"
    },
    {
     "name": "stdout",
     "output_type": "stream",
     "text": [
      "epoch      trn_loss   val_loss                                \n",
      "    0      0.247308   0.267389  \n",
      "    1      0.242139   0.266409                                \n",
      "    2      0.248787   0.267128                                \n",
      "    3      0.239688   0.266071                                \n",
      "    4      0.239044   0.264605                                \n",
      "    5      0.253714   0.264834                                \n",
      "    6      0.247429   0.264059                                \n",
      "    7      0.237182   0.264169                                \n",
      "    8      0.239228   0.263407                               \n",
      "    9      0.242193   0.263273                                \n",
      "\n"
     ]
    },
    {
     "data": {
      "text/plain": [
       "[array([0.26327])]"
      ]
     },
     "execution_count": 74,
     "metadata": {},
     "output_type": "execute_result"
    }
   ],
   "source": [
    "learn.fit(lr, 5, cycle_len=2)"
   ]
  },
  {
   "cell_type": "code",
   "execution_count": 75,
   "metadata": {
    "ExecuteTime": {
     "end_time": "2018-09-01T18:41:20.156504Z",
     "start_time": "2018-09-01T18:41:19.914671Z"
    }
   },
   "outputs": [
    {
     "data": {
      "image/png": "[encoded data removed]",
      "text/plain": [
       "<Figure size 432x288 with 1 Axes>"
      ]
     },
     "metadata": {},
     "output_type": "display_data"
    }
   ],
   "source": [
    "learn.sched.plot_lr()"
   ]
  },
  {
   "cell_type": "code",
   "execution_count": 76,
   "metadata": {
    "ExecuteTime": {
     "end_time": "2018-09-01T18:41:20.391479Z",
     "start_time": "2018-09-01T18:41:20.169425Z"
    }
   },
   "outputs": [
    {
     "data": {
      "image/png": "[encoded data removed]",
      "text/plain": [
       "<Figure size 432x288 with 1 Axes>"
      ]
     },
     "metadata": {},
     "output_type": "display_data"
    }
   ],
   "source": [
    "learn.scheded.plot_loss()"
   ]
  },
  {
   "cell_type": "code",
   "execution_count": 77,
   "metadata": {
    "ExecuteTime": {
     "end_time": "2018-09-01T18:41:20.437121Z",
     "start_time": "2018-09-01T18:41:20.394283Z"
    }
   },
   "outputs": [],
   "source": [
    "from sklearn.metrics import confusion_matrix"
   ]
  },
  {
   "cell_type": "code",
   "execution_count": 78,
   "metadata": {
    "ExecuteTime": {
     "end_time": "2018-09-01T18:41:21.004600Z",
     "start_time": "2018-09-01T18:41:20.439517Z"
    }
   },
   "outputs": [],
   "source": [
    "preds = learn.predict(True)"
   ]
  },
  {
   "cell_type": "code",
   "execution_count": 79,
   "metadata": {
    "ExecuteTime": {
     "end_time": "2018-09-01T18:41:21.055915Z",
     "start_time": "2018-09-01T18:41:21.006732Z"
    }
   },
   "outputs": [],
   "source": [
    "# softmax\n",
    "expsums = np.exp(preds).sum(axis=1)\n",
    "probs = np.exp(preds) / expsums[:, None]"
   ]
  },
  {
   "cell_type": "code",
   "execution_count": 80,
   "metadata": {
    "ExecuteTime": {
     "end_time": "2018-09-01T18:41:21.102828Z",
     "start_time": "2018-09-01T18:41:21.057954Z"
    }
   },
   "outputs": [],
   "source": [
    "y_pred = probs.argmax(axis=1)"
   ]
  },
  {
   "cell_type": "code",
   "execution_count": 81,
   "metadata": {
    "ExecuteTime": {
     "end_time": "2018-09-01T18:41:21.234022Z",
     "start_time": "2018-09-01T18:41:21.104969Z"
    }
   },
   "outputs": [
    {
     "data": {
      "text/plain": [
       "array([[    7,  1691],\n",
       "       [   13, 20338]])"
      ]
     },
     "execution_count": 81,
     "metadata": {},
     "output_type": "execute_result"
    }
   ],
   "source": [
    "confusion_matrix(y_test.astype(np.int32), y_pred)"
   ]
  },
  {
   "cell_type": "code",
   "execution_count": null,
   "metadata": {},
   "outputs": [],
   "source": []
  }
 ],
 "metadata": {
  "kernelspec": {
   "display_name": "Python 3",
   "language": "python",
   "name": "python3"
  },
  "language_info": {
   "codemirror_mode": {
    "name": "ipython",
    "version": 3
   },
   "file_extension": ".py",
   "mimetype": "text/x-python",
   "name": "python",
   "nbconvert_exporter": "python",
   "pygments_lexer": "ipython3",
   "version": "3.6.6"
  },
  "toc": {
   "base_numbering": 1,
   "nav_menu": {},
   "number_sections": true,
   "sideBar": true,
   "skip_h1_title": false,
   "title_cell": "Table of Contents",
   "title_sidebar": "Contents",
   "toc_cell": false,
   "toc_position": {},
   "toc_section_display": true,
   "toc_window_display": false
  }
 },
 "nbformat": 4,
 "nbformat_minor": 2
}
